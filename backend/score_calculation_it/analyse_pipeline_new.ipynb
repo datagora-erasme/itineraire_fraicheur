{
 "cells": [
  {
   "cell_type": "code",
   "execution_count": 1,
   "metadata": {},
   "outputs": [],
   "source": [
    "import os\n",
    "os.environ['USE_PYGEOS'] = '0'\n",
    "import geopandas as gpd\n",
    "import random\n",
    "import pandas as pd\n",
    "import multiprocessing as mp\n",
    "import numpy as np\n",
    "import osmnx as ox\n",
    "import json\n",
    "import networkx as nx\n",
    "import pickle\n",
    "from data_utils import *\n",
    "import matplotlib\n",
    "\n",
    "from scipy.stats import pearsonr, gamma, kstest, ks_2samp, wilcoxon\n",
    "from scipy.stats import ttest_rel, ttest_ind\n",
    "from scipy.stats import friedmanchisquare\n",
    "from scipy.stats import shapiro\n",
    "import matplotlib.pyplot as plt\n",
    "import seaborn as sns\n",
    "from acp import *"
   ]
  },
  {
   "cell_type": "code",
   "execution_count": 104,
   "metadata": {},
   "outputs": [],
   "source": [
    "edges_all_prop = gpd.read_file(\"./output_data/analyse/edges_all_prop.gpkg\")"
   ]
  },
  {
   "cell_type": "code",
   "execution_count": 105,
   "metadata": {},
   "outputs": [
    {
     "data": {
      "text/plain": [
       "Index(['u', 'v', 'key', 'osmid', 'oneway', 'name', 'highway', 'maxspeed',\n",
       "       'reversed', 'length', 'from', 'to', 'lanes', 'width', 'service',\n",
       "       'access', 'bridge', 'ref', 'junction', 'tunnel', 'est_width', 'area',\n",
       "       'uniqId', 'prairies_prop', 'ombres_08_prop', 'ombres_13_prop',\n",
       "       'ombres_18_prop', 'arbustes_prop', 'arbres_prop', 'C_wavg_scaled',\n",
       "       'eaux_prop', 'canop', 'geometry'],\n",
       "      dtype='object')"
      ]
     },
     "execution_count": 105,
     "metadata": {},
     "output_type": "execute_result"
    }
   ],
   "source": [
    "edges_all_prop.columns"
   ]
  },
  {
   "cell_type": "code",
   "execution_count": 165,
   "metadata": {},
   "outputs": [],
   "source": [
    "def len_if_group(all_it_path):\n",
    "    all_it = pd.read_csv(all_it_path)\n",
    "\n",
    "    it_if = all_it[all_it[\"type\"] == \"IF\"]\n",
    "    it_len = all_it[all_it[\"type\"] == \"LEN\"]\n",
    "    \n",
    "    return it_if, it_len\n",
    "\n",
    "def ks_2samp_test(group1, group2, alternative):\n",
    "    KS, p_value = ks_2samp(group1, group2, alternative=alternative)\n",
    "    print(\"KS statistics : \", KS)\n",
    "    print(\"p-value : \", p_value)\n",
    "    return KS, p_value\n",
    "\n",
    "def ks_2samp_test_key(key, column, alternative=\"two-sided\", hour=False):\n",
    "    path = \"\"\n",
    "    if(hour):\n",
    "        path = f\"./output_data/analyse/{key}/{hour}/mean_value_by_it{key}.csv\"\n",
    "    else:\n",
    "        path = f\"./output_data/analyse/{key}/mean_value_by_it{key}.csv\"\n",
    "    dataset = pd.read_csv(path)\n",
    "\n",
    "    it_if = dataset[dataset[\"type\"] == \"IF\"][column]\n",
    "    it_len = dataset[dataset[\"type\"] == \"LEN\"][column]\n",
    "\n",
    "    return ks_2samp_test(it_len, it_if, alternative=alternative)\n",
    "\n",
    "def test_students(group1, group2, alternative=\"two-sided\"):\n",
    "    \"\"\"In order to compare the mean between the distribution of group 1 and group 2\"\"\"\n",
    "    return ttest_rel(group1, group2, alternative=alternative)\n",
    "\n",
    "def test_students_key(key, column, hour=False, alternative=\"two-sided\"):\n",
    "    path = \"\"\n",
    "    if(hour):\n",
    "        path = f\"./output_data/analyse/{key}/{hour}/mean_value_by_it{key}.csv\"\n",
    "    else:\n",
    "        path = f\"./output_data/analyse/{key}/mean_value_by_it{key}.csv\"\n",
    "    dataset = pd.read_csv(path)\n",
    "\n",
    "    it_if = dataset[dataset[\"type\"] == \"IF\"][column]\n",
    "    it_len = dataset[dataset[\"type\"] == \"LEN\"][column]\n",
    "\n",
    "    return test_students(it_len, it_if, alternative=alternative)\n",
    "\n",
    "def wilcoxon_test(group1, group2):\n",
    "    return wilcoxon(group1, group2)\n",
    "\n",
    "def wilcoxon_test_key(key, column, hour=False):\n",
    "    path = \"\"\n",
    "    if(hour):\n",
    "        path = f\"./output_data/analyse/{key}/{hour}/mean_value_by_it{key}.csv\"\n",
    "    else:\n",
    "        path = f\"./output_data/analyse/{key}/mean_value_by_it{key}.csv\"\n",
    "    dataset = pd.read_csv(path)\n",
    "\n",
    "    it_if = dataset[dataset[\"type\"] == \"IF\"][column]\n",
    "    it_len = dataset[dataset[\"type\"] == \"LEN\"][column]\n",
    "\n",
    "    return wilcoxon_test(it_len, it_if)\n",
    "\n",
    "def d_cohen(group1, group2):\n",
    "    \"\"\"In order to know if there is a size effect\"\"\"\n",
    "    mean1 = np.mean(group1)\n",
    "    mean2 = np.mean(group2)\n",
    "\n",
    "    var1 = np.var(group1, ddof=1)\n",
    "    var2 = np.var(group2, ddof=2)\n",
    "    \n",
    "    n1 = len(group1)\n",
    "    n2 = len(group2)\n",
    "\n",
    "    pooled_std = np.sqrt(((n1 - 1) * var1 + (n2 - 1) * var2) / (n1 + n2 - 2))\n",
    "\n",
    "    return (mean1 - mean2) / pooled_std\n",
    "\n",
    "def d_cohen_key(key, column, hour=False):\n",
    "    path = \"\"\n",
    "    if(hour):\n",
    "        path = f\"./output_data/analyse/{key}/{hour}/mean_value_by_it{key}.csv\"\n",
    "    else:\n",
    "        path = f\"./output_data/analyse/{key}/mean_value_by_it{key}.csv\"\n",
    "    dataset = pd.read_csv(path)\n",
    "\n",
    "    it_if = dataset[dataset[\"type\"] == \"IF\"][column]\n",
    "    it_len = dataset[dataset[\"type\"] == \"LEN\"][column]\n",
    "\n",
    "    return d_cohen(it_len, it_if)\n",
    "\n",
    "def distance_cost(group1, group2):\n",
    "    \"\"\"Calculate the distance cost between itineraries\"\"\"\n",
    "    d1 = np.array(group1[\"total_length\"])\n",
    "    d2 = np.array(group2[\"total_length\"])\n",
    "\n",
    "    percent_diff = ((d2-d1)/d1)*100\n",
    "\n",
    "    return round(np.mean(percent_diff),2)\n",
    "\n",
    "def select_most_frequent_index(frequency_data, quantile):\n",
    "    limit_count = frequency_data[\"count\"].quantile([quantile]).iloc[0]\n",
    "    most_frequent = frequency_data[frequency_data[\"count\"] >= limit_count]\n",
    "    \n",
    "    percent = (len(most_frequent)/len(frequency_data))*100\n",
    "    \n",
    "    print(f\"percent most frequent :\", percent)\n",
    "    \n",
    "    indexes_most_frequent = most_frequent.index.to_list()\n",
    "    \n",
    "    return indexes_most_frequent\n",
    "\n",
    "def plot_data(data, name, max_y_value):\n",
    "    # Calculate the common x-axis limits\n",
    "    min_value = data.min()\n",
    "    max_value = data.max()\n",
    "\n",
    "    #Calculate the common y-axis limits\n",
    "    min_y_value = 0\n",
    "    max_y_value = max_y_value\n",
    "\n",
    "    fig1 = plt.figure(figsize=(8, 6))\n",
    "    plt.hist(data, bins=20, alpha=0.5, color=\"green\")\n",
    "    plt.xlabel(f\"{name}\")\n",
    "    plt.ylabel(\"Frequency\")\n",
    "    plt.title(f\"Histogram - {name}\")\n",
    "    plt.grid(True)\n",
    "    plt.xlim(min_value, max_value)\n",
    "    plt.ylim(min_y_value, max_y_value)\n",
    "\n",
    "    mean = np.mean(data)\n",
    "    var = np.var(data)\n",
    "    std = np.std(data)\n",
    "    quartiles = np.percentile(data, [25, 50, 75])\n",
    "    sample_size = len(data)\n",
    "\n",
    "    plt.axvline(mean, color='black', linestyle='dashed', linewidth=1)\n",
    "    plt.axvline(quartiles[0], color='red', linestyle='dashed', linewidth=1)\n",
    "    plt.axvline(quartiles[1], color='red', linestyle='solid', linewidth=1)\n",
    "    plt.axvline(quartiles[2], color='red', linestyle='dashed', linewidth=1)\n",
    "\n",
    "    plt.text(0.95, 0.95, f\"Mean: {mean:.2f}\\nVariance: {var:.2f}\\nStd Deviation: {std:.2f}\\n\"\n",
    "                         f\"Q1: {quartiles[0]:.2f}\\nQ2: {quartiles[1]:.2f}\\nQ3: {quartiles[2]:.2f}\\n\"\n",
    "                         f\"Sample Size : {sample_size}\",\n",
    "             verticalalignment=\"top\", horizontalalignment=\"right\", transform=plt.gca().transAxes)\n",
    "\n",
    "    plt.show()\n",
    "\n",
    "\n",
    "def convert_score_on_ten(x, max):\n",
    "    return (10/max)*x\n",
    "\n",
    "def plot_distribution_by_category(dataframe, target_column, category_column, category_colors=None):\n",
    "    \"\"\"\n",
    "    Plot the distribution of a target column colored by a category column.\n",
    "    \n",
    "    Parameters:\n",
    "        dataframe (pd.DataFrame): The DataFrame containing the data.\n",
    "        target_column (str): The column whose distribution will be plotted.\n",
    "        category_column (str): The column used for coloring the distribution.\n",
    "        category_colors (dict, optional): A dictionary specifying the colors for each category. \n",
    "                                          If not provided, default colors will be used.\n",
    "    \"\"\"\n",
    "    if category_colors is None:\n",
    "        category_colors = {}  # Default colors if not provided\n",
    "        unique_categories = dataframe[category_column].unique()\n",
    "        default_colors = plt.cm.tab10.colors\n",
    "        for i, cat in enumerate(unique_categories):\n",
    "            category_colors[cat] = default_colors[i % len(default_colors)]\n",
    "\n",
    "    # Extract data for plotting\n",
    "    data_to_plot = dataframe[[target_column, category_column]]\n",
    "\n",
    "    # Create a figure with two subplots\n",
    "    fig, (ax1, ax2) = plt.subplots(1, 2, figsize=(15, 6))\n",
    "\n",
    "    # Plot the histograms colored by category\n",
    "    for cat, group in data_to_plot.groupby(category_column):\n",
    "        ax1.hist(group[target_column], bins=10, alpha=0.6, color=category_colors[cat], label=cat)\n",
    "        ax2.hist(group[target_column], bins=10, alpha=0.6, color=category_colors[cat], label=cat)\n",
    "\n",
    "    # Calculate and display descriptive statistics\n",
    "    descriptive_stats = dataframe.groupby(category_column)[target_column].describe()\n",
    "    for cat in descriptive_stats.index:\n",
    "        mean = descriptive_stats.loc[cat, 'mean']\n",
    "        variance = descriptive_stats.loc[cat, 'std'] ** 2\n",
    "        q25 = descriptive_stats.loc[cat, '25%']\n",
    "        q50 = descriptive_stats.loc[cat, '50%']\n",
    "        q75 = descriptive_stats.loc[cat, '75%']\n",
    "        ax2.axvline(mean, color=category_colors[cat], linestyle='dashed', linewidth=1)\n",
    "        ax2.axvline(q25, color=category_colors[cat], linestyle='dotted', linewidth=1)\n",
    "        ax2.axvline(q50, color=category_colors[cat], linestyle='dotted', linewidth=1)\n",
    "        ax2.axvline(q75, color=category_colors[cat], linestyle='dotted', linewidth=1)\n",
    "\n",
    "    # Set plot properties\n",
    "    ax1.set_xlabel(target_column)\n",
    "    ax1.set_ylabel('Frequency')\n",
    "    ax1.set_title(f'Distribution of {target_column} by {category_column}')\n",
    "    ax1.legend()\n",
    "\n",
    "    ax2.set_xlabel(target_column)\n",
    "    ax2.set_title('Descriptive Statistics')\n",
    "    ax2.grid(True)\n",
    "\n",
    "    # Add a legend for descriptive statistics\n",
    "    legend_elements = [plt.Line2D([0], [0], color=category_colors[cat], lw=1, label=cat) for cat in descriptive_stats.index]\n",
    "    ax2.legend(handles=legend_elements, title=category_column)\n",
    "\n",
    "    plt.tight_layout()\n",
    "    plt.show()\n",
    "\n",
    "    def sns_plot(data, variable):\n",
    "        sns.set(rc={'axes.facecolor':'#f4f2f2', 'figure.facecolor':'#f4f2f2'})\n",
    "        colour_palette = {\"IF\": \"blue\", \"LEN\": \"red\"}\n",
    "        legend = {\"IF\": \"Frais\", \"LEN\": \"Courts\"}\n",
    "        sns.displot(data, x=variable, kind=\"kde\", hue=\"type\", fill=True, legend=False, palette=colour_palette)\n",
    "\n",
    "        plt.ylabel(\"Densité\")\n",
    "        plt.xlabel(\"\")\n",
    "\n",
    "        plt.legend(title=\"Types d'itinéraires\", labels=legend.values())\n",
    "        plt.show()\n",
    "\n",
    "def sns_plot(data, variable):\n",
    "    sns.set(rc={'axes.facecolor':'#f4f2f2', 'figure.facecolor':'#f4f2f2'})\n",
    "    colour_palette = {\"IF\": \"blue\", \"LEN\": \"red\"}\n",
    "    legend = {\"IF\": \"Frais\", \"LEN\": \"Courts\"}\n",
    "    sns.displot(data, x=variable, kind=\"kde\", hue=\"type\", fill=True, legend=False, palette=colour_palette)\n",
    "\n",
    "    plt.ylabel(\"Densité\")\n",
    "    plt.xlabel(\"\")\n",
    "\n",
    "    plt.legend(title=\"Types d'itinéraires\", labels=legend.values())\n",
    "    plt.show()\n",
    "\n",
    "def sns_plot_key(key, column, hour=False):\n",
    "    path = \"\"\n",
    "    if(hour):\n",
    "        path = f\"./output_data/analyse/{key}/{hour}/mean_value_by_it{key}.csv\"\n",
    "    else:\n",
    "        path = f\"./output_data/analyse/{key}/mean_value_by_it{key}.csv\"\n",
    "    dataset = pd.read_csv(path)\n",
    "\n",
    "    sns_plot(dataset, column)\n",
    "\n",
    "def basic_stats(data):\n",
    "    return pd.DataFrame({\n",
    "        \"mean\": np.mean(data),\n",
    "        \"var\": np.var(data),\n",
    "        \"quantiles\": np.quantile(data, q=[0.25,0.5,0.75])\n",
    "    })\n",
    "\n",
    "def basic_stats_key(key, column, hour=False, distinct_if_len=False):\n",
    "    path = \"\"\n",
    "    if(hour):\n",
    "        path = f\"./output_data/analyse/{key}/{hour}/mean_value_by_it{key}.csv\"\n",
    "    else:\n",
    "        path = f\"./output_data/analyse/{key}/mean_value_by_it{key}.csv\"\n",
    "    dataset = pd.read_csv(path)\n",
    "\n",
    "    sns_plot(dataset, column)\n",
    "\n",
    "    if(distinct_if_len):\n",
    "        it_if = dataset[dataset[\"type\"] == \"IF\"]\n",
    "        it_len = dataset[dataset[\"type\"] == \"LEN\"]\n",
    "\n",
    "        return{\n",
    "            \"IF\": basic_stats(it_if[column]),\n",
    "            \"LEN\": basic_stats(it_len[column])\n",
    "        }\n",
    "    else:\n",
    "        return(basic_stats(dataset[column]))\n",
    "    \n",
    "def basic_stats_temp_key(key, column, scaler, hour=False, distinct_if_len=False):\n",
    "    path = \"\"\n",
    "    if(hour):\n",
    "        path = f\"./output_data/analyse/{key}/{hour}/mean_value_by_it{key}.csv\"\n",
    "    else:\n",
    "        path = f\"./output_data/analyse/{key}/mean_value_by_it{key}.csv\"\n",
    "    dataset = pd.read_csv(path)\n",
    "\n",
    "    dataset[\"real_temp\"] = scaler.inverse_transform(dataset[[column]])\n",
    "\n",
    "    # print(dataset[\"real_temp\"])\n",
    "    sns_plot(dataset, \"real_temp\")\n",
    "\n",
    "    if(distinct_if_len):\n",
    "        it_if = dataset[dataset[\"type\"] == \"IF\"]\n",
    "        it_len = dataset[dataset[\"type\"] == \"LEN\"]\n",
    "\n",
    "        return{\n",
    "            \"IF\": basic_stats(it_if[\"real_temp\"]),\n",
    "            \"LEN\": basic_stats(it_len[\"real_temp\"])\n",
    "        }\n",
    "    else:\n",
    "        return(basic_stats(dataset[column]))\n",
    "\n",
    "def compare_gain(it_if, it_len, printed=True, q=[0.25,0.5,0.75]):\n",
    "    all_percent_diff = []\n",
    "    for i, l in zip(it_if, it_len):\n",
    "        percent = round(((i - l)/(l+0.000001))*100, 2)\n",
    "        all_percent_diff.append(percent)\n",
    "    \n",
    "    if(printed):\n",
    "        print(\"Gain quantiles : \", np.quantile(all_percent_diff, q=q))\n",
    "        print(\"Gain mean : \", np.mean(all_percent_diff))\n",
    "    return all_percent_diff\n",
    "\n",
    "def print_quantiles_to_compare(key1, key2, column):\n",
    "    dataset_1 = pd.read_csv(f\"./output_data/analyse/{key1}/13h/mean_value_by_it{key1}.csv\")\n",
    "    if_it_1 = dataset_1[dataset_1[\"type\"] == \"IF\"]\n",
    "\n",
    "    dataset_2 = pd.read_csv(f\"./output_data/analyse/{key2}/13h/mean_value_by_it{key2}.csv\")\n",
    "    if_it_2 = dataset_2[dataset_2[\"type\"] == \"IF\"]\n",
    "\n",
    "    print(f\"{column}; {key1}\", basic_stats(if_it_1[column]))\n",
    "    print(f\"{column}; {key2}\", basic_stats(if_it_2[column]))\n",
    "\n",
    "# def print_quantiles_to_compare_spec(key1, column):\n",
    "#     dataset_1 = pd.read_csv(f\"./output_data/analyse/{key1}/13h/mean_value_by_it{key1}.csv\")\n",
    "#     if_it_1 = dataset_1[dataset_1[\"type\"] == \"IF\"]\n",
    "\n",
    "#     print(f\"{column}; {key1}\", basic_stats(if_it_1[column]))\n",
    "#     print(f\"{column}; arbres : \", basic_stats(arbres_if))\n",
    "\n",
    "def gain_compare_key(key, column, hour=False):\n",
    "    path = \"\"\n",
    "    if(hour):\n",
    "        path = f\"./output_data/analyse/{key}/{hour}/mean_value_by_it{key}.csv\"\n",
    "    else:\n",
    "        path = f\"./output_data/analyse/{key}/mean_value_by_it{key}.csv\"\n",
    "    dataset = pd.read_csv(path)\n",
    "    # print(dataset.columns)\n",
    "    if_it = dataset[dataset[\"type\"] == \"IF\"]\n",
    "    if_len = dataset[dataset[\"type\"] == \"LEN\"]\n",
    "\n",
    "    all_percent_diff = compare_gain(if_it[column], if_len[column])\n",
    "\n",
    "    return all_percent_diff"
   ]
  },
  {
   "attachments": {},
   "cell_type": "markdown",
   "metadata": {},
   "source": [
    "## Prise en compte de la variable ombre à 13H\n",
    "\n",
    "### Analyse des gains"
   ]
  },
  {
   "attachments": {},
   "cell_type": "markdown",
   "metadata": {},
   "source": [
    "Gain en ombre avec la pondération initiale en arbres"
   ]
  },
  {
   "cell_type": "code",
   "execution_count": 134,
   "metadata": {},
   "outputs": [
    {
     "data": {
      "image/png": "[encoded data removed]",
      "text/plain": [
       "<Figure size 500x500 with 1 Axes>"
      ]
     },
     "metadata": {},
     "output_type": "display_data"
    }
   ],
   "source": [
    "sns_plot_key(\"P0_01O10At0_01Ar0_01C0_01E0_01Ca0_01\", \"mean_ombres_13_prop\", hour=\"13h\")"
   ]
  },
  {
   "cell_type": "code",
   "execution_count": 126,
   "metadata": {},
   "outputs": [
    {
     "name": "stdout",
     "output_type": "stream",
     "text": [
      "KS statistics :  0.3165644171779141\n",
      "p-value :  1.7218968015228244e-36\n"
     ]
    },
    {
     "data": {
      "text/plain": [
       "(0.3165644171779141, 1.7218968015228244e-36)"
      ]
     },
     "execution_count": 126,
     "metadata": {},
     "output_type": "execute_result"
    }
   ],
   "source": [
    "#comparaison des deux distributions : \n",
    "ks_2samp_test_key(\"P0_01O10At0_01Ar0_01C0_01E0_01Ca0_01\", \"mean_ombres_13_prop\", hour=\"13h\")"
   ]
  },
  {
   "cell_type": "code",
   "execution_count": 138,
   "metadata": {},
   "outputs": [
    {
     "data": {
      "text/plain": [
       "TtestResult(statistic=-20.88583421125668, pvalue=6.684541169192255e-78, df=814)"
      ]
     },
     "execution_count": 138,
     "metadata": {},
     "output_type": "execute_result"
    }
   ],
   "source": [
    "test_students_key(\"P0_01O10At0_01Ar0_01C0_01E0_01Ca0_01\", \"mean_ombres_13_prop\", hour=\"13h\")"
   ]
  },
  {
   "cell_type": "code",
   "execution_count": 143,
   "metadata": {},
   "outputs": [
    {
     "data": {
      "text/plain": [
       "WilcoxonResult(statistic=0.0, pvalue=5.811952142961751e-100)"
      ]
     },
     "execution_count": 143,
     "metadata": {},
     "output_type": "execute_result"
    }
   ],
   "source": [
    "wilcoxon_test_key(\"P0_01O10At0_01Ar0_01C0_01E0_01Ca0_01\", \"mean_ombres_13_prop\", hour=\"13h\")"
   ]
  },
  {
   "cell_type": "code",
   "execution_count": 128,
   "metadata": {},
   "outputs": [
    {
     "data": {
      "text/plain": [
       "-0.6396555163114584"
      ]
     },
     "execution_count": 128,
     "metadata": {},
     "output_type": "execute_result"
    }
   ],
   "source": [
    "d_cohen_key(\"P0_01O10At0_01Ar0_01C0_01E0_01Ca0_01\", \"mean_ombres_13_prop\", hour=\"13h\")"
   ]
  },
  {
   "cell_type": "code",
   "execution_count": 146,
   "metadata": {},
   "outputs": [
    {
     "name": "stdout",
     "output_type": "stream",
     "text": [
      "Gain quantiles :  [  0.    66.66 216.66]\n",
      "Gain mean :  249251.5120368098\n"
     ]
    }
   ],
   "source": [
    "gain_ombre_10_ar0 = gain_compare_key(\"P0_01O10At0_01Ar0_01C0_01E0_01Ca0_01\", \"mean_ombres_13_prop\", hour=\"13h\")"
   ]
  },
  {
   "cell_type": "code",
   "execution_count": 147,
   "metadata": {},
   "outputs": [
    {
     "name": "stdout",
     "output_type": "stream",
     "text": [
      "Gain quantiles :  [-14.76   0.     0.  ]\n",
      "Gain mean :  -3.025693251533743\n"
     ]
    }
   ],
   "source": [
    "gain_ombre_10_ar0 = gain_compare_key(\"P0_01O10At0_01Ar0_01C0_01E0_01Ca0_01\", \"mean_arbres_prop\", hour=\"13h\")"
   ]
  },
  {
   "cell_type": "code",
   "execution_count": 149,
   "metadata": {},
   "outputs": [
    {
     "name": "stdout",
     "output_type": "stream",
     "text": [
      "KS statistics :  0.06993865030674846\n",
      "p-value :  0.03709891200718318\n"
     ]
    },
    {
     "data": {
      "text/plain": [
       "(0.06993865030674846, 0.03709891200718318)"
      ]
     },
     "execution_count": 149,
     "metadata": {},
     "output_type": "execute_result"
    }
   ],
   "source": [
    "ks_2samp_test_key(\"P0_01O10At0_01Ar0_01C0_01E0_01Ca0_01\", \"mean_arbres_prop\", hour=\"13h\")"
   ]
  },
  {
   "cell_type": "code",
   "execution_count": 151,
   "metadata": {},
   "outputs": [
    {
     "data": {
      "text/plain": [
       "0.14273044621724684"
      ]
     },
     "execution_count": 151,
     "metadata": {},
     "output_type": "execute_result"
    }
   ],
   "source": [
    "d_cohen_key(\"P0_01O10At0_01Ar0_01C0_01E0_01Ca0_01\", \"mean_arbres_prop\", hour=\"13h\")"
   ]
  },
  {
   "cell_type": "code",
   "execution_count": 152,
   "metadata": {},
   "outputs": [
    {
     "name": "stdout",
     "output_type": "stream",
     "text": [
      "KS statistics :  0.3165644171779141\n",
      "p-value :  1.7218968015228244e-36\n"
     ]
    },
    {
     "data": {
      "text/plain": [
       "(0.3165644171779141, 1.7218968015228244e-36)"
      ]
     },
     "execution_count": 152,
     "metadata": {},
     "output_type": "execute_result"
    }
   ],
   "source": [
    "ks_2samp_test_key(\"P0_01O10At0_01Ar0_01C0_01E0_01Ca0_01\", \"mean_ombres_13_prop\", hour=\"13h\")"
   ]
  },
  {
   "cell_type": "code",
   "execution_count": 153,
   "metadata": {},
   "outputs": [
    {
     "data": {
      "text/plain": [
       "-0.6396555163114584"
      ]
     },
     "execution_count": 153,
     "metadata": {},
     "output_type": "execute_result"
    }
   ],
   "source": [
    "d_cohen_key(\"P0_01O10At0_01Ar0_01C0_01E0_01Ca0_01\", \"mean_ombres_13_prop\", hour=\"13h\")"
   ]
  },
  {
   "cell_type": "code",
   "execution_count": 20,
   "metadata": {},
   "outputs": [
    {
     "name": "stdout",
     "output_type": "stream",
     "text": [
      "Gain quantiles :  [-33.33   0.     6.67]\n",
      "Gain mean :  62580.23258895706\n"
     ]
    }
   ],
   "source": [
    "gain_ombres_ar10 = gain_compare_key(\"P0_01O0_01At0_01Ar10C0_01E0_01Ca0_01\", \"mean_ombres_13_prop\", hour=False)"
   ]
  },
  {
   "cell_type": "code",
   "execution_count": null,
   "metadata": {},
   "outputs": [],
   "source": []
  },
  {
   "cell_type": "code",
   "execution_count": 148,
   "metadata": {},
   "outputs": [
    {
     "name": "stdout",
     "output_type": "stream",
     "text": [
      "POID OMBRE :  9\n",
      "Arbres\n",
      "KS statistics :  0.23558282208588957\n",
      "p-value :  3.045060720202295e-20\n",
      "d cohen:  -0.5624237997883829\n",
      "Gain quantiles :  [ 0.   18.52 61.11]\n",
      "Gain mean :  51.66840490797546\n",
      "Ombres\n",
      "Gain quantiles :  [ 0.   8.2 75. ]\n",
      "Gain mean :  73681.39646625768\n",
      "KS statistics :  0.15337423312883436\n",
      "p-value :  8.852057910679524e-09\n",
      "d cohen:  -0.2930828261230545\n",
      "#### ####\n",
      "POID OMBRE :  7\n",
      "Arbres\n",
      "KS statistics :  0.25398773006134967\n",
      "p-value :  1.699083743139277e-23\n",
      "d cohen:  -0.6353875878507645\n",
      "Gain quantiles :  [ 0.    23.26  74.455]\n",
      "Gain mean :  59.9123190184049\n",
      "Ombres\n",
      "Gain quantiles :  [ 0.     0.    61.505]\n",
      "Gain mean :  72445.8133006135\n",
      "KS statistics :  0.12515337423312883\n",
      "p-value :  5.56984886240396e-06\n",
      "d cohen:  -0.23168245747319452\n",
      "#### ####\n",
      "POID OMBRE :  5\n",
      "Arbres\n",
      "KS statistics :  0.28957055214723926\n",
      "p-value :  1.6277891080383483e-30\n",
      "d cohen:  -0.7135350564185426\n",
      "Gain quantiles :  [ 0.   31.25 91.67]\n",
      "Gain mean :  67.01235582822086\n",
      "Ombres\n",
      "Gain quantiles :  [ 0.  0. 50.]\n",
      "Gain mean :  69980.03887116564\n",
      "KS statistics :  0.09447852760736196\n",
      "p-value :  0.0013766809838734503\n",
      "d cohen:  -0.159064675426122\n",
      "#### ####\n",
      "POID OMBRE :  3\n",
      "Arbres\n",
      "KS statistics :  0.3361963190184049\n",
      "p-value :  3.3953494917130905e-41\n",
      "d cohen:  -0.8199752784839178\n",
      "Gain quantiles :  [  6.06   40.    107.845]\n",
      "Gain mean :  81.19828220858896\n",
      "Ombres\n",
      "Gain quantiles :  [-10.725   0.     32.945]\n",
      "Gain mean :  67513.94217177914\n",
      "KS statistics :  0.051533742331288344\n",
      "p-value :  0.2293745635448854\n",
      "d cohen:  -0.05670840169355881\n",
      "#### ####\n",
      "POID OMBRE :  1\n",
      "Arbres\n",
      "KS statistics :  0.39631901840490796\n",
      "p-value :  1.5427474397697126e-57\n",
      "d cohen:  -0.9715019455779035\n",
      "Gain quantiles :  [ 12.97  57.14 130.  ]\n",
      "Gain mean :  98.74968098159508\n",
      "Ombres\n",
      "Gain quantiles :  [-25.     0.    14.29]\n",
      "Gain mean :  73638.93857668713\n",
      "KS statistics :  0.02822085889570552\n",
      "p-value :  0.9019793399809561\n",
      "d cohen:  0.06319742419688652\n",
      "#### ####\n"
     ]
    }
   ],
   "source": [
    "for w in range(9,0, -2):\n",
    "    print(\"POID OMBRE : \", w)\n",
    "    print(\"Arbres\")\n",
    "    ks_2samp_test_key(f\"P0_01O{w}At0_01Ar10C0_01E0_01Ca0_01\", \"mean_arbres_prop\")\n",
    "    # print(\"student : \", test_students_key(f\"P0_01O{w}At0_01Ar10C0_01E0_01Ca0_01\", \"mean_arbres_prop\"))\n",
    "    # print(\"wilcoxon :\", wilcoxon_test_key(f\"P0_01O{w}At0_01Ar10C0_01E0_01Ca0_01\", \"mean_arbres_prop\"))\n",
    "    print(\"d cohen: \", d_cohen_key(f\"P0_01O{w}At0_01Ar10C0_01E0_01Ca0_01\", \"mean_arbres_prop\"))\n",
    "    gain__arbres = gain_compare_key(f\"P0_01O{w}At0_01Ar10C0_01E0_01Ca0_01\", \"mean_arbres_prop\")\n",
    "    # sns_plot_key(f\"P0_01O{w}At0_01Ar10C0_01E0_01Ca0_01\", \"mean_arbres_prop\")\n",
    "    print(\"Ombres\")\n",
    "    gain__ombres = gain_compare_key(f\"P0_01O{w}At0_01Ar10C0_01E0_01Ca0_01\", \"mean_ombres_13_prop\")\n",
    "    ks_2samp_test_key(f\"P0_01O{w}At0_01Ar10C0_01E0_01Ca0_01\", \"mean_ombres_13_prop\")\n",
    "    # print(\"student : \", test_students_key(f\"P0_01O{w}At0_01Ar10C0_01E0_01Ca0_01\", \"mean_ombres_13_prop\"))\n",
    "    # print(\"wilcoxon :\", wilcoxon_test_key(f\"P0_01O{w}At0_01Ar10C0_01E0_01Ca0_01\", \"mean_ombres_13_prop\"))\n",
    "    print(\"d cohen: \", d_cohen_key(f\"P0_01O{w}At0_01Ar10C0_01E0_01Ca0_01\", \"mean_ombres_13_prop\"))\n",
    "    # sns_plot_key(f\"P0_01O{w}At0_01Ar10C0_01E0_01Ca0_01\", \"mean_ombres_13_prop\")\n",
    "    print(\"#### ####\")"
   ]
  },
  {
   "cell_type": "code",
   "execution_count": 31,
   "metadata": {},
   "outputs": [
    {
     "data": {
      "text/plain": [
       "{'IF':        mean       var  quantiles\n",
       " 0  0.179975  0.034315       0.06\n",
       " 1  0.179975  0.034315       0.12\n",
       " 2  0.179975  0.034315       0.21,\n",
       " 'LEN':        mean       var  quantiles\n",
       " 0  0.086221  0.008556       0.03\n",
       " 1  0.086221  0.008556       0.06\n",
       " 2  0.086221  0.008556       0.11}"
      ]
     },
     "execution_count": 31,
     "metadata": {},
     "output_type": "execute_result"
    }
   ],
   "source": [
    "basic_stats_key(\"P0_01O10At0_01Ar0_01C0_01E0_01Ca0_01\", \"mean_ombres_13_prop\", hour=\"13h\", distinct_if_len=True)"
   ]
  },
  {
   "cell_type": "code",
   "execution_count": 32,
   "metadata": {},
   "outputs": [
    {
     "data": {
      "text/plain": [
       "{'IF':        mean       var  quantiles\n",
       " 0  0.102147  0.011456       0.03\n",
       " 1  0.102147  0.011456       0.07\n",
       " 2  0.102147  0.011456       0.12,\n",
       " 'LEN':        mean       var  quantiles\n",
       " 0  0.086221  0.008556       0.03\n",
       " 1  0.086221  0.008556       0.06\n",
       " 2  0.086221  0.008556       0.11}"
      ]
     },
     "execution_count": 32,
     "metadata": {},
     "output_type": "execute_result"
    }
   ],
   "source": [
    "basic_stats_key(\"P0_01O5At0_01Ar10C0_01E0_01Ca0_01\", \"mean_ombres_13_prop\", hour=False, distinct_if_len=True)"
   ]
  },
  {
   "cell_type": "code",
   "execution_count": 33,
   "metadata": {},
   "outputs": [
    {
     "data": {
      "text/plain": [
       "{'IF':        mean       var  quantiles\n",
       " 0  0.091546  0.009047       0.03\n",
       " 1  0.091546  0.009047       0.06\n",
       " 2  0.091546  0.009047       0.11,\n",
       " 'LEN':        mean       var  quantiles\n",
       " 0  0.086221  0.008556       0.03\n",
       " 1  0.086221  0.008556       0.06\n",
       " 2  0.086221  0.008556       0.11}"
      ]
     },
     "execution_count": 33,
     "metadata": {},
     "output_type": "execute_result"
    }
   ],
   "source": [
    "basic_stats_key(\"P0_01O3At0_01Ar10C0_01E0_01Ca0_01\", \"mean_ombres_13_prop\", hour=False, distinct_if_len=True)"
   ]
  },
  {
   "cell_type": "code",
   "execution_count": 34,
   "metadata": {},
   "outputs": [
    {
     "data": {
      "text/plain": [
       "{'IF':       mean       var  quantiles\n",
       " 0  0.32811  0.030696       0.20\n",
       " 1  0.32811  0.030696       0.30\n",
       " 2  0.32811  0.030696       0.44,\n",
       " 'LEN':        mean       var  quantiles\n",
       " 0  0.220245  0.014915       0.13\n",
       " 1  0.220245  0.014915       0.20\n",
       " 2  0.220245  0.014915       0.29}"
      ]
     },
     "execution_count": 34,
     "metadata": {},
     "output_type": "execute_result"
    }
   ],
   "source": [
    "basic_stats_key(\"P0_01O5At0_01Ar10C0_01E0_01Ca0_01\", \"mean_arbres_prop\", hour=False, distinct_if_len=True)"
   ]
  },
  {
   "cell_type": "code",
   "execution_count": 35,
   "metadata": {},
   "outputs": [
    {
     "data": {
      "text/plain": [
       "{'IF':        mean       var  quantiles\n",
       " 0  0.347939  0.033487       0.21\n",
       " 1  0.347939  0.033487       0.32\n",
       " 2  0.347939  0.033487       0.46,\n",
       " 'LEN':        mean       var  quantiles\n",
       " 0  0.220245  0.014915       0.13\n",
       " 1  0.220245  0.014915       0.20\n",
       " 2  0.220245  0.014915       0.29}"
      ]
     },
     "execution_count": 35,
     "metadata": {},
     "output_type": "execute_result"
    }
   ],
   "source": [
    "basic_stats_key(\"P0_01O3At0_01Ar10C0_01E0_01Ca0_01\", \"mean_arbres_prop\", hour=False, distinct_if_len=True)"
   ]
  },
  {
   "cell_type": "code",
   "execution_count": 36,
   "metadata": {},
   "outputs": [
    {
     "data": {
      "text/plain": [
       "{'IF':        mean       var  quantiles\n",
       " 0  0.398025  0.038378       0.25\n",
       " 1  0.398025  0.038378       0.37\n",
       " 2  0.398025  0.038378       0.54,\n",
       " 'LEN':        mean       var  quantiles\n",
       " 0  0.220245  0.014915       0.13\n",
       " 1  0.220245  0.014915       0.20\n",
       " 2  0.220245  0.014915       0.29}"
      ]
     },
     "execution_count": 36,
     "metadata": {},
     "output_type": "execute_result"
    }
   ],
   "source": [
    "basic_stats_key(\"P0_01O0_01At0_01Ar10C0_01E0_01Ca0_01\", \"mean_arbres_prop\", hour=False, distinct_if_len=True)"
   ]
  },
  {
   "cell_type": "code",
   "execution_count": 163,
   "metadata": {},
   "outputs": [
    {
     "name": "stdout",
     "output_type": "stream",
     "text": [
      "Gain quantiles :  [0.14 1.86 6.17]\n",
      "Gain mean :  4.9839754601227\n",
      "[ 0.14    1.86    6.17   10.955  17.2332 31.9173 44.71  ]\n"
     ]
    }
   ],
   "source": [
    "gain_distance_ombre5arbre10 = gain_compare_key(\"P0_01O5At0_01Ar10C0_01E0_01Ca0_01\", \"total_length\")\n",
    "print(np.quantile(gain_distance_ombre5arbre10, q=[0.25,0.5,0.75,0.85,0.92,0.985]))"
   ]
  },
  {
   "attachments": {},
   "cell_type": "markdown",
   "metadata": {},
   "source": [
    "## Prise en compte de la variable ombre à 18h\n",
    "\n",
    "### Analyse des gains"
   ]
  },
  {
   "cell_type": "code",
   "execution_count": 91,
   "metadata": {},
   "outputs": [
    {
     "name": "stdout",
     "output_type": "stream",
     "text": [
      "Gain quantiles :  [-20.39  -1.79   2.56]\n",
      "Gain mean :  -5.074515337423312\n"
     ]
    }
   ],
   "source": [
    "gain_ombres_ar10 = gain_compare_key(\"P0_01O0_01At0_01Ar10C0_01E0_01Ca0_01\", \"mean_ombres_18_prop\", hour=False)"
   ]
  },
  {
   "cell_type": "code",
   "execution_count": 154,
   "metadata": {},
   "outputs": [
    {
     "name": "stdout",
     "output_type": "stream",
     "text": [
      "POID OMBRE :  9\n",
      "Arbres\n",
      "KS statistics :  0.252760736196319\n",
      "p-value :  2.8513359367624647e-23\n",
      "d cohen:  -0.6357651483673669\n",
      "Gain quantiles :  [ 0.    25.    82.285]\n",
      "Gain mean :  62.86395092024541\n",
      "Ombres\n",
      "Gain quantiles :  [ 0.   11.11 34.55]\n",
      "Gain mean :  30.099791411042947\n",
      "KS statistics :  0.18404907975460122\n",
      "p-value :  1.778937761529797e-12\n",
      "d cohen:  -0.41424660448260864\n",
      "#### ####\n",
      "POID OMBRE :  7\n",
      "Arbres\n",
      "KS statistics :  0.2773006134969325\n",
      "p-value :  5.5103779823593e-28\n",
      "d cohen:  -0.7101033107827966\n",
      "Gain quantiles :  [ 0.    30.    92.585]\n",
      "Gain mean :  70.09446625766871\n",
      "Ombres\n",
      "Gain quantiles :  [ 0.     7.58  28.015]\n",
      "Gain mean :  24.240515337423307\n",
      "KS statistics :  0.15460122699386503\n",
      "p-value :  6.490881996141203e-09\n",
      "d cohen:  -0.3357724191539021\n",
      "#### ####\n",
      "POID OMBRE :  5\n",
      "Arbres\n",
      "KS statistics :  0.3398773006134969\n",
      "p-value :  4.1170902494931254e-42\n",
      "d cohen:  -0.82737755625269\n",
      "Gain quantiles :  [  5.97  40.   114.28]\n",
      "Gain mean :  83.72959509202454\n",
      "Ombres\n",
      "Gain quantiles :  [ 0.     3.85  22.795]\n",
      "Gain mean :  18.74996319018405\n",
      "KS statistics :  0.12024539877300613\n",
      "p-value :  1.4929287391206826e-05\n",
      "d cohen:  -0.24051755937385952\n",
      "#### ####\n"
     ]
    }
   ],
   "source": [
    "for w in range(9,3, -2):\n",
    "    print(\"POID OMBRE : \", w)\n",
    "    print(\"Arbres\")\n",
    "    ks_2samp_test_key(f\"P0_01O{w}At0_01Ar10C0_01E0_01Ca0_01\", \"mean_arbres_prop\", hour=\"18h\")\n",
    "    # print(\"student : \", test_students_key(f\"P0_01O{w}At0_01Ar10C0_01E0_01Ca0_01\", \"mean_arbres_prop\"))\n",
    "    # print(\"wilcoxon :\", wilcoxon_test_key(f\"P0_01O{w}At0_01Ar10C0_01E0_01Ca0_01\", \"mean_arbres_prop\"))\n",
    "    print(\"d cohen: \", d_cohen_key(f\"P0_01O{w}At0_01Ar10C0_01E0_01Ca0_01\", \"mean_arbres_prop\", hour=\"18h\"))\n",
    "    gain__arbres = gain_compare_key(f\"P0_01O{w}At0_01Ar10C0_01E0_01Ca0_01\", \"mean_arbres_prop\", hour=\"18h\")\n",
    "    # sns_plot_key(f\"P0_01O{w}At0_01Ar10C0_01E0_01Ca0_01\", \"mean_arbres_prop\")\n",
    "    print(\"Ombres\")\n",
    "    gain__ombres = gain_compare_key(f\"P0_01O{w}At0_01Ar10C0_01E0_01Ca0_01\", \"mean_ombres_18_prop\", hour=\"18h\")\n",
    "    ks_2samp_test_key(f\"P0_01O{w}At0_01Ar10C0_01E0_01Ca0_01\", \"mean_ombres_18_prop\", hour=\"18h\")\n",
    "    # print(\"student : \", test_students_key(f\"P0_01O{w}At0_01Ar10C0_01E0_01Ca0_01\", \"mean_ombres_13_prop\"))\n",
    "    # print(\"wilcoxon :\", wilcoxon_test_key(f\"P0_01O{w}At0_01Ar10C0_01E0_01Ca0_01\", \"mean_ombres_13_prop\"))\n",
    "    print(\"d cohen: \", d_cohen_key(f\"P0_01O{w}At0_01Ar10C0_01E0_01Ca0_01\", \"mean_ombres_18_prop\", hour=\"18h\"))\n",
    "    # sns_plot_key(f\"P0_01O{w}At0_01Ar10C0_01E0_01Ca0_01\", \"mean_ombres_13_prop\")\n",
    "    print(\"#### ####\")"
   ]
  },
  {
   "cell_type": "code",
   "execution_count": null,
   "metadata": {},
   "outputs": [],
   "source": [
    "dataset_ombre_18 = gpd.read_file(\"./output_data/analyse/\")"
   ]
  },
  {
   "attachments": {},
   "cell_type": "markdown",
   "metadata": {},
   "source": [
    "## Prise en compte de la température\n",
    "\n",
    "Pour la température, les données ont été normalisées et standardisées entre 0 et 1 afin que la pondération ait un sens, cependant, pour l'analyse, nous observons la vrai valeur de température afin de donner plus de sens."
   ]
  },
  {
   "cell_type": "code",
   "execution_count": 62,
   "metadata": {},
   "outputs": [],
   "source": [
    "from sklearn.preprocessing import MinMaxScaler"
   ]
  },
  {
   "cell_type": "code",
   "execution_count": 38,
   "metadata": {},
   "outputs": [],
   "source": [
    "temp_edges_path = \"./output_data/network/edges/edges_buffered_temp_wavg_bounding_no_na.gpkg\""
   ]
  },
  {
   "cell_type": "code",
   "execution_count": 44,
   "metadata": {},
   "outputs": [],
   "source": [
    "def calculate_mean_prop(it, score_column):\n",
    "    \"\"\"Calculate the mean proportion of one column for a given itinerary\"\"\"\n",
    "    # print(score_column)\n",
    "    # print(it[score_column])\n",
    "    return round(sum(it[score_column]*it[\"length\"])/sum(it[\"length\"]), 2)\n",
    "\n",
    "def get_real_temperature(key, temp_edges_path, hour=\"13h\"):\n",
    "    \"\"\"Get the real temperature for the edges of one dataset through all edges prop file\"\"\"\n",
    "    # edges_it = gpd.read_file(f\"./output_data/analyse/{key}/{hour}/dataset_{key}.gpkg\")\n",
    "    edges_it = gpd.read_file(\"./output_data/analyse/P0_01O0_01At0_01Ar0_01C10E0_01Ca0_01/13h/dataset_P0_01O0_01At0_01Ar0_01C10E0_01Ca0_01.gpkg\")\n",
    "    print(\"edges_it ok\")\n",
    "    all_edges_prop = gpd.read_file(temp_edges_path)\n",
    "    print(\"temp edges ok\")\n",
    "\n",
    "    edges_it = edges_it.set_index([\"uniqId\"])\n",
    "    all_edges_prop = all_edges_prop.set_index([\"uniqId\"])\n",
    "\n",
    "    all_edges_prop_sample = all_edges_prop.loc[edges_it.index.to_list()]\n",
    "\n",
    "    edges_it[\"C\"] =  all_edges_prop_sample[\"C\"]\n",
    "\n",
    "    return edges_it\n"
   ]
  },
  {
   "cell_type": "code",
   "execution_count": 48,
   "metadata": {},
   "outputs": [],
   "source": [
    "temp_edges = gpd.read_file(\"./output_data/network/edges/edges_buffered_temp_wavg_bounding_no_na.gpkg\")"
   ]
  },
  {
   "cell_type": "code",
   "execution_count": 64,
   "metadata": {},
   "outputs": [
    {
     "data": {
      "text/html": [
       "<style>#sk-container-id-1 {color: black;background-color: white;}#sk-container-id-1 pre{padding: 0;}#sk-container-id-1 div.sk-toggleable {background-color: white;}#sk-container-id-1 label.sk-toggleable__label {cursor: pointer;display: block;width: 100%;margin-bottom: 0;padding: 0.3em;box-sizing: border-box;text-align: center;}#sk-container-id-1 label.sk-toggleable__label-arrow:before {content: \"▸\";float: left;margin-right: 0.25em;color: #696969;}#sk-container-id-1 label.sk-toggleable__label-arrow:hover:before {color: black;}#sk-container-id-1 div.sk-estimator:hover label.sk-toggleable__label-arrow:before {color: black;}#sk-container-id-1 div.sk-toggleable__content {max-height: 0;max-width: 0;overflow: hidden;text-align: left;background-color: #f0f8ff;}#sk-container-id-1 div.sk-toggleable__content pre {margin: 0.2em;color: black;border-radius: 0.25em;background-color: #f0f8ff;}#sk-container-id-1 input.sk-toggleable__control:checked~div.sk-toggleable__content {max-height: 200px;max-width: 100%;overflow: auto;}#sk-container-id-1 input.sk-toggleable__control:checked~label.sk-toggleable__label-arrow:before {content: \"▾\";}#sk-container-id-1 div.sk-estimator input.sk-toggleable__control:checked~label.sk-toggleable__label {background-color: #d4ebff;}#sk-container-id-1 div.sk-label input.sk-toggleable__control:checked~label.sk-toggleable__label {background-color: #d4ebff;}#sk-container-id-1 input.sk-hidden--visually {border: 0;clip: rect(1px 1px 1px 1px);clip: rect(1px, 1px, 1px, 1px);height: 1px;margin: -1px;overflow: hidden;padding: 0;position: absolute;width: 1px;}#sk-container-id-1 div.sk-estimator {font-family: monospace;background-color: #f0f8ff;border: 1px dotted black;border-radius: 0.25em;box-sizing: border-box;margin-bottom: 0.5em;}#sk-container-id-1 div.sk-estimator:hover {background-color: #d4ebff;}#sk-container-id-1 div.sk-parallel-item::after {content: \"\";width: 100%;border-bottom: 1px solid gray;flex-grow: 1;}#sk-container-id-1 div.sk-label:hover label.sk-toggleable__label {background-color: #d4ebff;}#sk-container-id-1 div.sk-serial::before {content: \"\";position: absolute;border-left: 1px solid gray;box-sizing: border-box;top: 0;bottom: 0;left: 50%;z-index: 0;}#sk-container-id-1 div.sk-serial {display: flex;flex-direction: column;align-items: center;background-color: white;padding-right: 0.2em;padding-left: 0.2em;position: relative;}#sk-container-id-1 div.sk-item {position: relative;z-index: 1;}#sk-container-id-1 div.sk-parallel {display: flex;align-items: stretch;justify-content: center;background-color: white;position: relative;}#sk-container-id-1 div.sk-item::before, #sk-container-id-1 div.sk-parallel-item::before {content: \"\";position: absolute;border-left: 1px solid gray;box-sizing: border-box;top: 0;bottom: 0;left: 50%;z-index: -1;}#sk-container-id-1 div.sk-parallel-item {display: flex;flex-direction: column;z-index: 1;position: relative;background-color: white;}#sk-container-id-1 div.sk-parallel-item:first-child::after {align-self: flex-end;width: 50%;}#sk-container-id-1 div.sk-parallel-item:last-child::after {align-self: flex-start;width: 50%;}#sk-container-id-1 div.sk-parallel-item:only-child::after {width: 0;}#sk-container-id-1 div.sk-dashed-wrapped {border: 1px dashed gray;margin: 0 0.4em 0.5em 0.4em;box-sizing: border-box;padding-bottom: 0.4em;background-color: white;}#sk-container-id-1 div.sk-label label {font-family: monospace;font-weight: bold;display: inline-block;line-height: 1.2em;}#sk-container-id-1 div.sk-label-container {text-align: center;}#sk-container-id-1 div.sk-container {/* jupyter's `normalize.less` sets `[hidden] { display: none; }` but bootstrap.min.css set `[hidden] { display: none !important; }` so we also need the `!important` here to be able to override the default hidden behavior on the sphinx rendered scikit-learn.org. See: https://github.com/scikit-learn/scikit-learn/issues/21755 */display: inline-block !important;position: relative;}#sk-container-id-1 div.sk-text-repr-fallback {display: none;}</style><div id=\"sk-container-id-1\" class=\"sk-top-container\"><div class=\"sk-text-repr-fallback\"><pre>MinMaxScaler()</pre><b>In a Jupyter environment, please rerun this cell to show the HTML representation or trust the notebook. <br />On GitHub, the HTML representation is unable to render, please try loading this page with nbviewer.org.</b></div><div class=\"sk-container\" hidden><div class=\"sk-item\"><div class=\"sk-estimator sk-toggleable\"><input class=\"sk-toggleable__control sk-hidden--visually\" id=\"sk-estimator-id-1\" type=\"checkbox\" checked><label for=\"sk-estimator-id-1\" class=\"sk-toggleable__label sk-toggleable__label-arrow\">MinMaxScaler</label><div class=\"sk-toggleable__content\"><pre>MinMaxScaler()</pre></div></div></div></div></div>"
      ],
      "text/plain": [
       "MinMaxScaler()"
      ]
     },
     "execution_count": 64,
     "metadata": {},
     "output_type": "execute_result"
    }
   ],
   "source": [
    "temp_scaler = MinMaxScaler(feature_range=(0, 1))\n",
    "temp_scaler.fit(temp_edges[[\"C_wavg\"]])\n"
   ]
  },
  {
   "cell_type": "code",
   "execution_count": 87,
   "metadata": {},
   "outputs": [
    {
     "data": {
      "image/png": "[encoded data removed]",
      "text/plain": [
       "<Figure size 500x500 with 1 Axes>"
      ]
     },
     "metadata": {},
     "output_type": "display_data"
    },
    {
     "data": {
      "text/plain": [
       "{'IF':         mean       var  quantiles\n",
       " 0  34.175656  2.058617      33.30\n",
       " 1  34.175656  2.058617      34.32\n",
       " 2  34.175656  2.058617      35.34,\n",
       " 'LEN':         mean       var  quantiles\n",
       " 0  34.437018  1.619423      33.64\n",
       " 1  34.437018  1.619423      34.66\n",
       " 2  34.437018  1.619423      35.51}"
      ]
     },
     "execution_count": 87,
     "metadata": {},
     "output_type": "execute_result"
    }
   ],
   "source": [
    "basic_stats_temp_key(\"P0_01O0_01At0_01Ar0_01C10E0_01Ca0_01\", \"mean_C_wavg_scaled\", temp_scaler, hour=\"13h\", distinct_if_len=True)"
   ]
  },
  {
   "cell_type": "code",
   "execution_count": 47,
   "metadata": {},
   "outputs": [
    {
     "data": {
      "text/plain": [
       "{'IF':        mean       var  quantiles\n",
       " 0  0.516209  0.005284      0.465\n",
       " 1  0.516209  0.005284      0.520\n",
       " 2  0.516209  0.005284      0.570,\n",
       " 'LEN':        mean       var  quantiles\n",
       " 0  0.496883  0.005604       0.45\n",
       " 1  0.496883  0.005604       0.51\n",
       " 2  0.496883  0.005604       0.56}"
      ]
     },
     "execution_count": 47,
     "metadata": {},
     "output_type": "execute_result"
    }
   ],
   "source": [
    "basic_stats_key(\"P0_01O0_01At0_01Ar0_01C10E0_01Ca0_01\", \"mean_C_wavg_scaled\", hour=\"13h\", distinct_if_len=True)"
   ]
  },
  {
   "cell_type": "code",
   "execution_count": 95,
   "metadata": {},
   "outputs": [
    {
     "name": "stdout",
     "output_type": "stream",
     "text": [
      "Gain quantiles :  [-3.42  0.    0.  ]\n",
      "Gain mean :  -3.2225398773006133\n",
      "[2.38]\n"
     ]
    }
   ],
   "source": [
    "gain_temp_10 = gain_compare_key(\"P0_01O0_01At0_01Ar0_01C10E0_01Ca0_01\", \"mean_C_wavg_scaled\", hour=\"13h\")\n",
    "print(np.quantile(gain_temp_10, q=[0.95]))"
   ]
  },
  {
   "cell_type": "code",
   "execution_count": 101,
   "metadata": {},
   "outputs": [
    {
     "data": {
      "image/png": "[encoded data removed]",
      "text/plain": [
       "<Figure size 500x500 with 1 Axes>"
      ]
     },
     "metadata": {},
     "output_type": "display_data"
    },
    {
     "data": {
      "text/plain": [
       "{'IF':         mean       var  quantiles\n",
       " 0  34.263681  1.946993      33.30\n",
       " 1  34.263681  1.946993      34.49\n",
       " 2  34.263681  1.946993      35.34,\n",
       " 'LEN':         mean       var  quantiles\n",
       " 0  34.437018  1.619423      33.64\n",
       " 1  34.437018  1.619423      34.66\n",
       " 2  34.437018  1.619423      35.51}"
      ]
     },
     "execution_count": 101,
     "metadata": {},
     "output_type": "execute_result"
    }
   ],
   "source": [
    "basic_stats_temp_key(\"P0_01O5At0_01Ar10C1E0_01Ca0_01\", \"mean_C_wavg_scaled\", temp_scaler, hour=\"13h\", distinct_if_len=True)"
   ]
  },
  {
   "cell_type": "code",
   "execution_count": 100,
   "metadata": {},
   "outputs": [
    {
     "name": "stdout",
     "output_type": "stream",
     "text": [
      "Gain quantiles :  [-2.15  0.    0.  ]\n",
      "Gain mean :  -2.0905153374233127\n",
      "[4.76]\n"
     ]
    }
   ],
   "source": [
    "gain_temp_10 = gain_compare_key(\"P0_01O5At0_01Ar10C1E0_01Ca0_01\", \"mean_C_wavg_scaled\", hour=\"13h\")\n",
    "print(np.quantile(gain_temp_10, q=[0.95]))"
   ]
  },
  {
   "attachments": {},
   "cell_type": "markdown",
   "metadata": {},
   "source": [
    "Essayons d'expliquer ce peu de différence entre les itinéraires les plus courts et les plus frais lorsque l'on prend en compte la température\n",
    "Pour ce faire, regardons la distribution de la température sur la population des segments parcourus par les itinéraires"
   ]
  },
  {
   "cell_type": "code",
   "execution_count": 102,
   "metadata": {},
   "outputs": [],
   "source": [
    "dataset_temp_10 = gpd.read_file(\"./output_data/analyse/P0_01O0_01At0_01Ar0_01C10E0_01Ca0_01/13h/dataset_P0_01O0_01At0_01Ar0_01C10E0_01Ca0_01.gpkg\")"
   ]
  },
  {
   "cell_type": "code",
   "execution_count": 103,
   "metadata": {},
   "outputs": [
    {
     "data": {
      "text/plain": [
       "Index(['u', 'v', 'key', 'type', 'id_it', 'osmid', 'uniqId', 'length', 'from',\n",
       "       'to', 'total_score_08', 'total_score_13', 'total_score_18',\n",
       "       'freshness_score', 'score_distance_08', 'score_distance_13',\n",
       "       'score_distance_18', 'zone_id', 'geometry'],\n",
       "      dtype='object')"
      ]
     },
     "execution_count": 103,
     "metadata": {},
     "output_type": "execute_result"
    }
   ],
   "source": [
    "dataset_temp_10.columns"
   ]
  },
  {
   "cell_type": "code",
   "execution_count": 106,
   "metadata": {},
   "outputs": [],
   "source": [
    "edges_all_prop = edges_all_prop.reset_index()\n",
    "edges_all_prop = edges_all_prop.set_index([\"uniqId\"])\n",
    "dataset_temp_10 = dataset_temp_10.reset_index()\n",
    "dataset_temp_10 = dataset_temp_10.set_index([\"uniqId\"])"
   ]
  },
  {
   "cell_type": "code",
   "execution_count": 117,
   "metadata": {},
   "outputs": [],
   "source": [
    "edges_all_prop_sample = edges_all_prop.loc[list(set(dataset_temp_10.index.to_list()))]\n",
    "# edges_all_prop_sample[\"C_wavg_scaled\"] = edges_all_prop_sample[\"C_wavg_scaled\"]\n",
    "edges_all_prop_sample[\"C_wavg\"] = temp_scaler.inverse_transform(edges_all_prop_sample[[\"C_wavg_scaled\"]])"
   ]
  },
  {
   "cell_type": "code",
   "execution_count": 118,
   "metadata": {},
   "outputs": [
    {
     "data": {
      "text/plain": [
       "<seaborn.axisgrid.FacetGrid at 0x7efd6f9f0520>"
      ]
     },
     "execution_count": 118,
     "metadata": {},
     "output_type": "execute_result"
    },
    {
     "data": {
      "image/png": "[encoded data removed]",
      "text/plain": [
       "<Figure size 500x500 with 1 Axes>"
      ]
     },
     "metadata": {},
     "output_type": "display_data"
    }
   ],
   "source": [
    "sns.displot(edges_all_prop_sample[\"C_wavg_scaled\"])"
   ]
  },
  {
   "cell_type": "code",
   "execution_count": 119,
   "metadata": {},
   "outputs": [
    {
     "data": {
      "text/plain": [
       "<seaborn.axisgrid.FacetGrid at 0x7efd7613c8b0>"
      ]
     },
     "execution_count": 119,
     "metadata": {},
     "output_type": "execute_result"
    },
    {
     "data": {
      "image/png": "[encoded data removed]",
      "text/plain": [
       "<Figure size 500x500 with 1 Axes>"
      ]
     },
     "metadata": {},
     "output_type": "display_data"
    }
   ],
   "source": [
    "sns.displot(edges_all_prop_sample[\"C_wavg\"])"
   ]
  },
  {
   "cell_type": "code",
   "execution_count": 121,
   "metadata": {},
   "outputs": [
    {
     "data": {
      "text/html": [
       "<div>\n",
       "<style scoped>\n",
       "    .dataframe tbody tr th:only-of-type {\n",
       "        vertical-align: middle;\n",
       "    }\n",
       "\n",
       "    .dataframe tbody tr th {\n",
       "        vertical-align: top;\n",
       "    }\n",
       "\n",
       "    .dataframe thead th {\n",
       "        text-align: right;\n",
       "    }\n",
       "</style>\n",
       "<table border=\"1\" class=\"dataframe\">\n",
       "  <thead>\n",
       "    <tr style=\"text-align: right;\">\n",
       "      <th></th>\n",
       "      <th>mean</th>\n",
       "      <th>var</th>\n",
       "      <th>quantiles</th>\n",
       "    </tr>\n",
       "  </thead>\n",
       "  <tbody>\n",
       "    <tr>\n",
       "      <th>0</th>\n",
       "      <td>34.790614</td>\n",
       "      <td>3.359219</td>\n",
       "      <td>33.84</td>\n",
       "    </tr>\n",
       "    <tr>\n",
       "      <th>1</th>\n",
       "      <td>34.790614</td>\n",
       "      <td>3.359219</td>\n",
       "      <td>35.00</td>\n",
       "    </tr>\n",
       "    <tr>\n",
       "      <th>2</th>\n",
       "      <td>34.790614</td>\n",
       "      <td>3.359219</td>\n",
       "      <td>36.00</td>\n",
       "    </tr>\n",
       "  </tbody>\n",
       "</table>\n",
       "</div>"
      ],
      "text/plain": [
       "        mean       var  quantiles\n",
       "0  34.790614  3.359219      33.84\n",
       "1  34.790614  3.359219      35.00\n",
       "2  34.790614  3.359219      36.00"
      ]
     },
     "execution_count": 121,
     "metadata": {},
     "output_type": "execute_result"
    }
   ],
   "source": [
    "np.quantile(edges_all_prop_sample[\"C_wavg\"], q=[0.25,0.5,0.75])\n",
    "basic_stats(edges_all_prop_sample[\"C_wavg\"])"
   ]
  },
  {
   "cell_type": "code",
   "execution_count": 122,
   "metadata": {},
   "outputs": [
    {
     "data": {
      "text/html": [
       "<div>\n",
       "<style scoped>\n",
       "    .dataframe tbody tr th:only-of-type {\n",
       "        vertical-align: middle;\n",
       "    }\n",
       "\n",
       "    .dataframe tbody tr th {\n",
       "        vertical-align: top;\n",
       "    }\n",
       "\n",
       "    .dataframe thead th {\n",
       "        text-align: right;\n",
       "    }\n",
       "</style>\n",
       "<table border=\"1\" class=\"dataframe\">\n",
       "  <thead>\n",
       "    <tr style=\"text-align: right;\">\n",
       "      <th></th>\n",
       "      <th>mean</th>\n",
       "      <th>var</th>\n",
       "      <th>quantiles</th>\n",
       "    </tr>\n",
       "  </thead>\n",
       "  <tbody>\n",
       "    <tr>\n",
       "      <th>0</th>\n",
       "      <td>0.517683</td>\n",
       "      <td>0.011624</td>\n",
       "      <td>0.461765</td>\n",
       "    </tr>\n",
       "    <tr>\n",
       "      <th>1</th>\n",
       "      <td>0.517683</td>\n",
       "      <td>0.011624</td>\n",
       "      <td>0.530000</td>\n",
       "    </tr>\n",
       "    <tr>\n",
       "      <th>2</th>\n",
       "      <td>0.517683</td>\n",
       "      <td>0.011624</td>\n",
       "      <td>0.588824</td>\n",
       "    </tr>\n",
       "  </tbody>\n",
       "</table>\n",
       "</div>"
      ],
      "text/plain": [
       "       mean       var  quantiles\n",
       "0  0.517683  0.011624   0.461765\n",
       "1  0.517683  0.011624   0.530000\n",
       "2  0.517683  0.011624   0.588824"
      ]
     },
     "execution_count": 122,
     "metadata": {},
     "output_type": "execute_result"
    }
   ],
   "source": [
    "basic_stats(edges_all_prop_sample[\"C_wavg_scaled\"])"
   ]
  },
  {
   "cell_type": "code",
   "execution_count": 123,
   "metadata": {},
   "outputs": [
    {
     "data": {
      "text/html": [
       "<div>\n",
       "<style scoped>\n",
       "    .dataframe tbody tr th:only-of-type {\n",
       "        vertical-align: middle;\n",
       "    }\n",
       "\n",
       "    .dataframe tbody tr th {\n",
       "        vertical-align: top;\n",
       "    }\n",
       "\n",
       "    .dataframe thead th {\n",
       "        text-align: right;\n",
       "    }\n",
       "</style>\n",
       "<table border=\"1\" class=\"dataframe\">\n",
       "  <thead>\n",
       "    <tr style=\"text-align: right;\">\n",
       "      <th></th>\n",
       "      <th>mean</th>\n",
       "      <th>var</th>\n",
       "      <th>quantiles</th>\n",
       "    </tr>\n",
       "  </thead>\n",
       "  <tbody>\n",
       "    <tr>\n",
       "      <th>0</th>\n",
       "      <td>0.545491</td>\n",
       "      <td>0.015011</td>\n",
       "      <td>0.471176</td>\n",
       "    </tr>\n",
       "    <tr>\n",
       "      <th>1</th>\n",
       "      <td>0.545491</td>\n",
       "      <td>0.015011</td>\n",
       "      <td>0.555882</td>\n",
       "    </tr>\n",
       "    <tr>\n",
       "      <th>2</th>\n",
       "      <td>0.545491</td>\n",
       "      <td>0.015011</td>\n",
       "      <td>0.628235</td>\n",
       "    </tr>\n",
       "  </tbody>\n",
       "</table>\n",
       "</div>"
      ],
      "text/plain": [
       "       mean       var  quantiles\n",
       "0  0.545491  0.015011   0.471176\n",
       "1  0.545491  0.015011   0.555882\n",
       "2  0.545491  0.015011   0.628235"
      ]
     },
     "execution_count": 123,
     "metadata": {},
     "output_type": "execute_result"
    }
   ],
   "source": [
    "basic_stats(edges_all_prop[\"C_wavg_scaled\"])"
   ]
  },
  {
   "cell_type": "code",
   "execution_count": 157,
   "metadata": {},
   "outputs": [
    {
     "name": "stdout",
     "output_type": "stream",
     "text": [
      "POID TEMPERATURE :  9\n",
      "Arbres\n",
      "KS statistics :  0.24662576687116564\n",
      "p-value :  3.6489331204078515e-22\n",
      "d cohen:  -0.6253172094705967\n",
      "Gain quantiles :  [ 0.    23.53  71.825]\n",
      "Gain mean :  57.08174233128834\n",
      "TEMPERATURE\n",
      "Gain quantiles :  [-3.42  0.    0.  ]\n",
      "Gain mean :  -3.2225398773006133\n",
      "KS statistics :  0.07975460122699386\n",
      "p-value :  0.011184542066222644\n",
      "d cohen:  0.19254538224836984\n",
      "#### ####\n",
      "POID TEMPERATURE :  7\n",
      "Arbres\n",
      "KS statistics :  0.25766871165644173\n",
      "p-value :  3.5389972351265164e-24\n",
      "d cohen:  -0.6461825754564051\n",
      "Gain quantiles :  [ 0.   25.   76.09]\n",
      "Gain mean :  59.34952147239264\n",
      "TEMPERATURE\n",
      "Gain quantiles :  [-3.33  0.    0.  ]\n",
      "Gain mean :  -3.0752269938650305\n",
      "KS statistics :  0.07730061349693251\n",
      "p-value :  0.015319051068053265\n",
      "d cohen:  0.18589347700322797\n",
      "#### ####\n",
      "POID TEMPERATURE :  5\n",
      "Arbres\n",
      "KS statistics :  0.26380368098159507\n",
      "p-value :  2.457521316113808e-25\n",
      "d cohen:  -0.6642742535094084\n",
      "Gain quantiles :  [ 0. 25. 80.]\n",
      "Gain mean :  62.34909202453988\n",
      "TEMPERATURE\n",
      "Gain quantiles :  [-3.33  0.    0.  ]\n",
      "Gain mean :  -2.9083803680981593\n",
      "KS statistics :  0.0687116564417178\n",
      "p-value :  0.04262206578720906\n",
      "d cohen:  0.1759957490737334\n",
      "#### ####\n",
      "POID TEMPERATURE :  3\n",
      "Arbres\n",
      "KS statistics :  0.2773006134969325\n",
      "p-value :  5.5103779823593e-28\n",
      "d cohen:  -0.6832773218824655\n",
      "Gain quantiles :  [ 0.   28.57 85.71]\n",
      "Gain mean :  64.09085889570552\n",
      "TEMPERATURE\n",
      "Gain quantiles :  [-2.44  0.    0.  ]\n",
      "Gain mean :  -2.585496932515338\n",
      "KS statistics :  0.06012269938650307\n",
      "p-value :  0.10508616358971999\n",
      "d cohen:  0.15483307454546347\n",
      "#### ####\n",
      "POID TEMPERATURE :  1\n",
      "Arbres\n",
      "KS statistics :  0.2773006134969325\n",
      "p-value :  5.5103779823593e-28\n",
      "d cohen:  -0.6930452622842325\n",
      "Gain quantiles :  [ 0.   28.57 88.24]\n",
      "Gain mean :  65.24159509202455\n",
      "TEMPERATURE\n",
      "Gain quantiles :  [-2.15  0.    0.  ]\n",
      "Gain mean :  -2.0905153374233127\n",
      "KS statistics :  0.053987730061349694\n",
      "p-value :  0.18585231421882395\n",
      "d cohen:  0.1296817867485597\n",
      "#### ####\n"
     ]
    }
   ],
   "source": [
    "for w in range(9,0, -2):\n",
    "    print(\"POID TEMPERATURE : \", w)\n",
    "    print(\"Arbres\")\n",
    "    ks_2samp_test_key(f\"P0_01O5At0_01Ar10C{w}E0_01Ca0_01\", \"mean_arbres_prop\", hour=\"13h\")\n",
    "    # print(\"student : \", test_students_key(f\"P0_01O{w}At0_01Ar10C0_01E0_01Ca0_01\", \"mean_arbres_prop\"))\n",
    "    # print(\"wilcoxon :\", wilcoxon_test_key(f\"P0_01O{w}At0_01Ar10C0_01E0_01Ca0_01\", \"mean_arbres_prop\"))\n",
    "    print(\"d cohen: \", d_cohen_key(f\"P0_01O5At0_01Ar10C{w}E0_01Ca0_01\", \"mean_arbres_prop\", hour=\"13h\"))\n",
    "    gain__arbres = gain_compare_key(f\"P0_01O5At0_01Ar10C{w}E0_01Ca0_01\", \"mean_arbres_prop\", hour=\"13h\")\n",
    "    # sns_plot_key(f\"P0_01O{w}At0_01Ar10C0_01E0_01Ca0_01\", \"mean_arbres_prop\")\n",
    "    print(\"TEMPERATURE\")\n",
    "    gain__ombres = gain_compare_key(f\"P0_01O5At0_01Ar10C{w}E0_01Ca0_01\", \"mean_C_wavg_scaled\", hour=\"13h\")\n",
    "    ks_2samp_test_key(f\"P0_01O5At0_01Ar10C{w}E0_01Ca0_01\", \"mean_C_wavg_scaled\", hour=\"13h\")\n",
    "    # print(\"student : \", test_students_key(f\"P0_01O{w}At0_01Ar10C0_01E0_01Ca0_01\", \"mean_ombres_13_prop\"))\n",
    "    # print(\"wilcoxon :\", wilcoxon_test_key(f\"P0_01O{w}At0_01Ar10C0_01E0_01Ca0_01\", \"mean_ombres_13_prop\"))\n",
    "    print(\"d cohen: \", d_cohen_key(f\"P0_01O5At0_01Ar10C{w}E0_01Ca0_01\", \"mean_C_wavg_scaled\", hour=\"13h\"))\n",
    "    # sns_plot_key(f\"P0_01O{w}At0_01Ar10C0_01E0_01Ca0_01\", \"mean_ombres_13_prop\")\n",
    "    print(\"#### ####\")"
   ]
  },
  {
   "attachments": {},
   "cell_type": "markdown",
   "metadata": {},
   "source": [
    "## Prise en compte de la variable Eau"
   ]
  },
  {
   "cell_type": "code",
   "execution_count": 166,
   "metadata": {},
   "outputs": [
    {
     "data": {
      "image/png": "[encoded data removed]",
      "text/plain": [
       "<Figure size 500x500 with 1 Axes>"
      ]
     },
     "metadata": {},
     "output_type": "display_data"
    },
    {
     "data": {
      "text/plain": [
       "{'IF':        mean       var  quantiles\n",
       " 0  0.180871  0.070939       0.00\n",
       " 1  0.180871  0.070939       0.00\n",
       " 2  0.180871  0.070939       0.39,\n",
       " 'LEN':        mean       var  quantiles\n",
       " 0  0.056061  0.016301       0.00\n",
       " 1  0.056061  0.016301       0.00\n",
       " 2  0.056061  0.016301       0.06}"
      ]
     },
     "execution_count": 166,
     "metadata": {},
     "output_type": "execute_result"
    }
   ],
   "source": [
    "basic_stats_key(\"P0_01O0_01At0_01Ar0_01C0_01E10Ca0_01\", \"mean_eaux_prop\", hour=\"13h\", distinct_if_len=True)"
   ]
  },
  {
   "cell_type": "code",
   "execution_count": 181,
   "metadata": {},
   "outputs": [
    {
     "name": "stdout",
     "output_type": "stream",
     "text": [
      "KS statistics :  0.252760736196319\n",
      "p-value :  2.8513359367624647e-23\n"
     ]
    },
    {
     "data": {
      "text/plain": [
       "(0.252760736196319, 2.8513359367624647e-23)"
      ]
     },
     "execution_count": 181,
     "metadata": {},
     "output_type": "execute_result"
    }
   ],
   "source": [
    "ks_2samp_test_key(\"P0_01O0_01At0_01Ar0_01C0_01E10Ca0_01\", \"mean_eaux_prop\", hour=\"13h\")"
   ]
  },
  {
   "cell_type": "code",
   "execution_count": 182,
   "metadata": {},
   "outputs": [
    {
     "data": {
      "text/plain": [
       "-0.596928645013175"
      ]
     },
     "execution_count": 182,
     "metadata": {},
     "output_type": "execute_result"
    }
   ],
   "source": [
    "d_cohen_key(\"P0_01O0_01At0_01Ar0_01C0_01E10Ca0_01\", \"mean_eaux_prop\", hour=\"13h\")"
   ]
  },
  {
   "attachments": {},
   "cell_type": "markdown",
   "metadata": {},
   "source": [
    "L'eau (comme les parcs) est un cas particulier dans le sens où cette donnée n'est pas présente partout, elle n'est pas homogènement. \n",
    "Ainsi, il semblerait plutôt pertinent de regarder quels sont les itinéraires \"frais\" passant par l'eau et comparer seulement ceux-ci avec les itinéraires les plus courts correspondants."
   ]
  },
  {
   "cell_type": "code",
   "execution_count": 192,
   "metadata": {},
   "outputs": [],
   "source": [
    "def gain_water_key(key, hour=False):\n",
    "    path = \"\"\n",
    "    if(hour):\n",
    "        path = f\"./output_data/analyse/{key}/{hour}/mean_value_by_it{key}.csv\"\n",
    "    else:\n",
    "        path = f\"./output_data/analyse/{key}/mean_value_by_it{key}.csv\"\n",
    "    dataset = pd.read_csv(path)\n",
    "    if_it = dataset[dataset[\"type\"] == \"IF\"]\n",
    "    if_it = if_it.set_index([\"id_it\"])\n",
    "    if_len = dataset[dataset[\"type\"] == \"LEN\"]\n",
    "    if_len = if_len.set_index([\"id_it\"])\n",
    "\n",
    "    print(\"IF eaux : \", np.quantile(if_it[\"mean_eaux_prop\"], q=[0.25,0.5,0.75]))\n",
    "    print(\"LEN eaux : \", np.quantile(if_len[\"mean_eaux_prop\"], q=[0.25,0.5,0.75]))\n",
    "\n",
    "    if_it_sample = if_it[if_it[\"mean_eaux_prop\"] > 0]\n",
    "    if_len_sample = if_len.loc[if_it_sample.index.to_list()]\n",
    "\n",
    "    print(\"It avec eaux (%) :\", (len(if_it_sample)/len(if_it))*100)\n",
    "\n",
    "    print(\"IF eaux sample : \", np.quantile(if_it_sample[\"mean_eaux_prop\"], q=[0.25,0.5,0.75]))\n",
    "    print(\"LEN eaux sample : \", np.quantile(if_len_sample[\"mean_eaux_prop\"], q=[0.25,0.5,0.75]))\n",
    "\n",
    "    all_percent_diff = compare_gain(if_it_sample[\"mean_eaux_prop\"], if_len_sample[\"mean_eaux_prop\"])\n",
    "\n",
    "    return all_percent_diff\n",
    "    "
   ]
  },
  {
   "cell_type": "code",
   "execution_count": 168,
   "metadata": {},
   "outputs": [
    {
     "name": "stdout",
     "output_type": "stream",
     "text": [
      "Gain quantiles :  [  0.    0.  177.5]\n",
      "Gain mean :  3049267.804834356\n"
     ]
    }
   ],
   "source": [
    "gain_eaux = gain_compare_key(\"P0_01O0_01At0_01Ar0_01C0_01E10Ca0_01\", \"mean_eaux_prop\", hour=\"13h\")"
   ]
  },
  {
   "cell_type": "code",
   "execution_count": 175,
   "metadata": {},
   "outputs": [
    {
     "name": "stdout",
     "output_type": "stream",
     "text": [
      "IF eaux :  [0.   0.   0.39]\n",
      "LEN eaux :  [0.   0.   0.06]\n",
      "It avec eaux (%) : 44.04907975460123\n",
      "IF eaux sample :  [0.205 0.44  0.6  ]\n",
      "LEN eaux sample :  [0.01 0.07 0.16]\n",
      "Gain quantiles :  [ 29.75 258.33 899.98]\n",
      "Gain mean :  6922432.48172702\n"
     ]
    }
   ],
   "source": [
    "gain_eaux_sample = gain_water_key(\"P0_01O0_01At0_01Ar0_01C0_01E10Ca0_01\", hour=\"13h\")"
   ]
  },
  {
   "attachments": {},
   "cell_type": "markdown",
   "metadata": {},
   "source": [
    "## Eau avec les arbres et l'ombre des bâtiments"
   ]
  },
  {
   "attachments": {},
   "cell_type": "markdown",
   "metadata": {},
   "source": [
    "### Ombre : 5, Arbres : 10, Eau : 9"
   ]
  },
  {
   "cell_type": "code",
   "execution_count": 176,
   "metadata": {},
   "outputs": [
    {
     "data": {
      "image/png": "[encoded data removed]",
      "text/plain": [
       "<Figure size 500x500 with 1 Axes>"
      ]
     },
     "metadata": {},
     "output_type": "display_data"
    },
    {
     "data": {
      "text/plain": [
       "{'IF':        mean       var  quantiles\n",
       " 0  0.099104  0.034514        0.0\n",
       " 1  0.099104  0.034514        0.0\n",
       " 2  0.099104  0.034514        0.1,\n",
       " 'LEN':        mean       var  quantiles\n",
       " 0  0.056061  0.016301       0.00\n",
       " 1  0.056061  0.016301       0.00\n",
       " 2  0.056061  0.016301       0.06}"
      ]
     },
     "execution_count": 176,
     "metadata": {},
     "output_type": "execute_result"
    }
   ],
   "source": [
    "basic_stats_key(\"P0_01O5At0_01Ar10C0_01E9Ca0_01\", \"mean_eaux_prop\", hour=\"13h\", distinct_if_len=True)"
   ]
  },
  {
   "cell_type": "code",
   "execution_count": 184,
   "metadata": {},
   "outputs": [
    {
     "name": "stdout",
     "output_type": "stream",
     "text": [
      "KS statistics :  0.11288343558282209\n",
      "p-value :  6.0801963540346485e-05\n"
     ]
    },
    {
     "data": {
      "text/plain": [
       "(0.11288343558282209, 6.0801963540346485e-05)"
      ]
     },
     "execution_count": 184,
     "metadata": {},
     "output_type": "execute_result"
    }
   ],
   "source": [
    "ks_2samp_test_key(\"P0_01O5At0_01Ar10C0_01E9Ca0_01\", \"mean_eaux_prop\", hour=\"13h\")"
   ]
  },
  {
   "cell_type": "code",
   "execution_count": 185,
   "metadata": {},
   "outputs": [
    {
     "data": {
      "text/plain": [
       "-0.2697576125973751"
      ]
     },
     "execution_count": 185,
     "metadata": {},
     "output_type": "execute_result"
    }
   ],
   "source": [
    "d_cohen_key(\"P0_01O5At0_01Ar10C0_01E9Ca0_01\", \"mean_eaux_prop\", hour=\"13h\")"
   ]
  },
  {
   "cell_type": "code",
   "execution_count": 177,
   "metadata": {},
   "outputs": [
    {
     "name": "stdout",
     "output_type": "stream",
     "text": [
      "IF eaux :  [0.  0.  0.1]\n",
      "LEN eaux :  [0.   0.   0.06]\n",
      "It avec eaux (%) : 39.38650306748466\n",
      "IF eaux sample :  [0.06 0.21 0.4 ]\n",
      "LEN eaux sample :  [0.04 0.08 0.2 ]\n",
      "Gain quantiles :  [  0.     0.   199.98]\n",
      "Gain mean :  2937842.0694392524\n"
     ]
    }
   ],
   "source": [
    "gain_eaux_sample_ar10_ombre5_eau9 = gain_water_key(\"P0_01O5At0_01Ar10C0_01E9Ca0_01\", hour=\"13h\")"
   ]
  },
  {
   "cell_type": "code",
   "execution_count": 202,
   "metadata": {},
   "outputs": [
    {
     "name": "stdout",
     "output_type": "stream",
     "text": [
      "Gain quantiles :  [0. 0. 0.]\n",
      "Gain mean :  1157112.3979263804\n",
      "[ 37.434 193.174]\n"
     ]
    }
   ],
   "source": [
    "gain_eaux_ar10_ombre5_eau9 = gain_compare_key(\"P0_01O5At0_01Ar10C0_01E9Ca0_01\", \"mean_eaux_prop\", hour=\"13h\")\n",
    "print(np.quantile(gain_eaux_ar10_ombre5_eau9, q=[0.85,0.9]))"
   ]
  },
  {
   "cell_type": "code",
   "execution_count": 178,
   "metadata": {},
   "outputs": [
    {
     "name": "stdout",
     "output_type": "stream",
     "text": [
      "Gain quantiles :  [ 0.    13.33  58.475]\n",
      "Gain mean :  47.06851533742332\n"
     ]
    }
   ],
   "source": [
    "gain_arbre_ar10_ombre5_eau9 = gain_compare_key(\"P0_01O5At0_01Ar10C0_01E9Ca0_01\", \"mean_arbres_prop\", hour=\"13h\")"
   ]
  },
  {
   "cell_type": "code",
   "execution_count": 179,
   "metadata": {},
   "outputs": [
    {
     "name": "stdout",
     "output_type": "stream",
     "text": [
      "Gain quantiles :  [ 0.    0.   27.59]\n",
      "Gain mean :  56469.95282208591\n"
     ]
    }
   ],
   "source": [
    "gain_ombre_ar10_ombre5_eau9 = gain_compare_key(\"P0_01O5At0_01Ar10C0_01E9Ca0_01\", \"mean_ombres_13_prop\", hour=\"13h\")"
   ]
  },
  {
   "attachments": {},
   "cell_type": "markdown",
   "metadata": {},
   "source": [
    "### Ombre : 5, Arbres : 10, Eau : 7"
   ]
  },
  {
   "cell_type": "code",
   "execution_count": 180,
   "metadata": {},
   "outputs": [
    {
     "data": {
      "image/png": "[encoded data removed]",
      "text/plain": [
       "<Figure size 500x500 with 1 Axes>"
      ]
     },
     "metadata": {},
     "output_type": "display_data"
    },
    {
     "data": {
      "text/plain": [
       "{'IF':        mean       var  quantiles\n",
       " 0  0.093472  0.031371       0.00\n",
       " 1  0.093472  0.031371       0.00\n",
       " 2  0.093472  0.031371       0.09,\n",
       " 'LEN':        mean       var  quantiles\n",
       " 0  0.056061  0.016301       0.00\n",
       " 1  0.056061  0.016301       0.00\n",
       " 2  0.056061  0.016301       0.06}"
      ]
     },
     "execution_count": 180,
     "metadata": {},
     "output_type": "execute_result"
    }
   ],
   "source": [
    "basic_stats_key(\"P0_01O5At0_01Ar10C0_01E7Ca0_01\", \"mean_eaux_prop\", hour=\"13h\", distinct_if_len=True)"
   ]
  },
  {
   "cell_type": "code",
   "execution_count": 186,
   "metadata": {},
   "outputs": [
    {
     "name": "stdout",
     "output_type": "stream",
     "text": [
      "KS statistics :  0.10306748466257669\n",
      "p-value :  0.0003441002104793967\n"
     ]
    },
    {
     "data": {
      "text/plain": [
       "(0.10306748466257669, 0.0003441002104793967)"
      ]
     },
     "execution_count": 186,
     "metadata": {},
     "output_type": "execute_result"
    }
   ],
   "source": [
    "ks_2samp_test_key(\"P0_01O5At0_01Ar10C0_01E7Ca0_01\", \"mean_eaux_prop\", hour=\"13h\")"
   ]
  },
  {
   "cell_type": "code",
   "execution_count": 187,
   "metadata": {},
   "outputs": [
    {
     "data": {
      "text/plain": [
       "-0.24206914392940787"
      ]
     },
     "execution_count": 187,
     "metadata": {},
     "output_type": "execute_result"
    }
   ],
   "source": [
    "d_cohen_key(\"P0_01O5At0_01Ar10C0_01E7Ca0_01\", \"mean_eaux_prop\", hour=\"13h\")"
   ]
  },
  {
   "cell_type": "code",
   "execution_count": 188,
   "metadata": {},
   "outputs": [
    {
     "name": "stdout",
     "output_type": "stream",
     "text": [
      "IF eaux :  [0.   0.   0.09]\n",
      "LEN eaux :  [0.   0.   0.06]\n",
      "It avec eaux (%) : 39.14110429447853\n",
      "IF eaux sample :  [0.06  0.2   0.365]\n",
      "LEN eaux sample :  [0.045 0.08  0.2  ]\n",
      "Gain quantiles :  [  0.     0.   137.43]\n",
      "Gain mean :  2495424.2760815048\n"
     ]
    }
   ],
   "source": [
    "gain_eaux_sample_ar10_ombre5_eau7 = gain_water_key(\"P0_01O5At0_01Ar10C0_01E7Ca0_01\", hour=\"13h\")"
   ]
  },
  {
   "cell_type": "code",
   "execution_count": 201,
   "metadata": {},
   "outputs": [
    {
     "name": "stdout",
     "output_type": "stream",
     "text": [
      "Gain quantiles :  [0. 0. 0.]\n",
      "Gain mean :  976735.7596196318\n",
      "[ 23.908 128.908]\n"
     ]
    }
   ],
   "source": [
    "gain_eaux_ar10_ombre5_eau7 = gain_compare_key(\"P0_01O5At0_01Ar10C0_01E7Ca0_01\", \"mean_eaux_prop\", hour=\"13h\")\n",
    "print(np.quantile(gain_eaux_ar10_ombre5_eau7, q=[0.85,0.9]))"
   ]
  },
  {
   "cell_type": "code",
   "execution_count": 189,
   "metadata": {},
   "outputs": [
    {
     "name": "stdout",
     "output_type": "stream",
     "text": [
      "Gain quantiles :  [ 0.   17.65 61.11]\n",
      "Gain mean :  50.45678527607362\n"
     ]
    }
   ],
   "source": [
    "gain_arbre_ar10_ombre5_eau7 = gain_compare_key(\"P0_01O5At0_01Ar10C0_01E7Ca0_01\", \"mean_arbres_prop\", hour=\"13h\")"
   ]
  },
  {
   "cell_type": "code",
   "execution_count": 190,
   "metadata": {},
   "outputs": [
    {
     "name": "stdout",
     "output_type": "stream",
     "text": [
      "Gain quantiles :  [ 0.     0.    29.705]\n",
      "Gain mean :  57697.898159509205\n"
     ]
    }
   ],
   "source": [
    "gain_ombre_ar10_ombre5_eau7 = gain_compare_key(\"P0_01O5At0_01Ar10C0_01E7Ca0_01\", \"mean_ombres_13_prop\", hour=\"13h\")"
   ]
  },
  {
   "attachments": {},
   "cell_type": "markdown",
   "metadata": {},
   "source": [
    "### Ombre : 5, Arbres : 10, Eau : 5"
   ]
  },
  {
   "cell_type": "code",
   "execution_count": 203,
   "metadata": {},
   "outputs": [
    {
     "data": {
      "image/png": "[encoded data removed]",
      "text/plain": [
       "<Figure size 500x500 with 1 Axes>"
      ]
     },
     "metadata": {},
     "output_type": "display_data"
    },
    {
     "data": {
      "text/plain": [
       "{'IF':        mean       var  quantiles\n",
       " 0  0.082834  0.027005       0.00\n",
       " 1  0.082834  0.027005       0.00\n",
       " 2  0.082834  0.027005       0.08,\n",
       " 'LEN':        mean       var  quantiles\n",
       " 0  0.056061  0.016301       0.00\n",
       " 1  0.056061  0.016301       0.00\n",
       " 2  0.056061  0.016301       0.06}"
      ]
     },
     "execution_count": 203,
     "metadata": {},
     "output_type": "execute_result"
    }
   ],
   "source": [
    "basic_stats_key(\"P0_01O5At0_01Ar10C0_01E5Ca0_01\", \"mean_eaux_prop\", hour=\"13h\", distinct_if_len=True)"
   ]
  },
  {
   "cell_type": "code",
   "execution_count": 204,
   "metadata": {},
   "outputs": [
    {
     "name": "stdout",
     "output_type": "stream",
     "text": [
      "KS statistics :  0.0785276073619632\n",
      "p-value :  0.013105720409177887\n"
     ]
    },
    {
     "data": {
      "text/plain": [
       "(0.0785276073619632, 0.013105720409177887)"
      ]
     },
     "execution_count": 204,
     "metadata": {},
     "output_type": "execute_result"
    }
   ],
   "source": [
    "ks_2samp_test_key(\"P0_01O5At0_01Ar10C0_01E5Ca0_01\", \"mean_eaux_prop\", hour=\"13h\")"
   ]
  },
  {
   "cell_type": "code",
   "execution_count": 205,
   "metadata": {},
   "outputs": [
    {
     "data": {
      "text/plain": [
       "-0.1817622347517396"
      ]
     },
     "execution_count": 205,
     "metadata": {},
     "output_type": "execute_result"
    }
   ],
   "source": [
    "d_cohen_key(\"P0_01O5At0_01Ar10C0_01E5Ca0_01\", \"mean_eaux_prop\", hour=\"13h\")"
   ]
  },
  {
   "cell_type": "code",
   "execution_count": 206,
   "metadata": {},
   "outputs": [
    {
     "name": "stdout",
     "output_type": "stream",
     "text": [
      "IF eaux :  [0.   0.   0.08]\n",
      "LEN eaux :  [0.   0.   0.06]\n",
      "It avec eaux (%) : 39.018404907975466\n",
      "IF eaux sample :  [0.05 0.13 0.32]\n",
      "LEN eaux sample :  [0.0425 0.08   0.2   ]\n",
      "Gain quantiles :  [ 0.      0.     53.4125]\n",
      "Gain mean :  2254796.281006289\n"
     ]
    }
   ],
   "source": [
    "gain_eaux_sample_ar10_ombre5_eau5 = gain_water_key(\"P0_01O5At0_01Ar10C0_01E5Ca0_01\", hour=\"13h\")"
   ]
  },
  {
   "cell_type": "code",
   "execution_count": 207,
   "metadata": {},
   "outputs": [
    {
     "name": "stdout",
     "output_type": "stream",
     "text": [
      "Gain quantiles :  [0. 0. 0.]\n",
      "Gain mean :  879784.4385030675\n",
      "[ 0.   48.18]\n"
     ]
    }
   ],
   "source": [
    "gain_eaux_ar10_ombre5_eau5 = gain_compare_key(\"P0_01O5At0_01Ar10C0_01E5Ca0_01\", \"mean_eaux_prop\", hour=\"13h\")\n",
    "print(np.quantile(gain_eaux_ar10_ombre5_eau5, q=[0.85,0.9]))"
   ]
  },
  {
   "cell_type": "code",
   "execution_count": 208,
   "metadata": {},
   "outputs": [
    {
     "name": "stdout",
     "output_type": "stream",
     "text": [
      "Gain quantiles :  [ 0.   20.   64.29]\n",
      "Gain mean :  52.82462576687117\n"
     ]
    }
   ],
   "source": [
    "gain_arbre_ar10_ombre5_eau5 = gain_compare_key(\"P0_01O5At0_01Ar10C0_01E5Ca0_01\", \"mean_arbres_prop\", hour=\"13h\")"
   ]
  },
  {
   "cell_type": "code",
   "execution_count": 209,
   "metadata": {},
   "outputs": [
    {
     "name": "stdout",
     "output_type": "stream",
     "text": [
      "Gain quantiles :  [ 0.    0.   33.33]\n",
      "Gain mean :  54019.963349693266\n"
     ]
    }
   ],
   "source": [
    "gain_ombre_ar10_ombre5_eau5 = gain_compare_key(\"P0_01O5At0_01Ar10C0_01E5Ca0_01\", \"mean_ombres_13_prop\", hour=\"13h\")"
   ]
  },
  {
   "attachments": {},
   "cell_type": "markdown",
   "metadata": {},
   "source": [
    "### Ombre : 5, Arbres : 10, Eau : 3"
   ]
  },
  {
   "cell_type": "code",
   "execution_count": 210,
   "metadata": {},
   "outputs": [
    {
     "data": {
      "image/png": "[encoded data removed]",
      "text/plain": [
       "<Figure size 500x500 with 1 Axes>"
      ]
     },
     "metadata": {},
     "output_type": "display_data"
    },
    {
     "data": {
      "text/plain": [
       "{'IF':        mean      var  quantiles\n",
       " 0  0.073975  0.02326       0.00\n",
       " 1  0.073975  0.02326       0.00\n",
       " 2  0.073975  0.02326       0.07,\n",
       " 'LEN':        mean       var  quantiles\n",
       " 0  0.056061  0.016301       0.00\n",
       " 1  0.056061  0.016301       0.00\n",
       " 2  0.056061  0.016301       0.06}"
      ]
     },
     "execution_count": 210,
     "metadata": {},
     "output_type": "execute_result"
    }
   ],
   "source": [
    "basic_stats_key(\"P0_01O5At0_01Ar10C0_01E3Ca0_01\", \"mean_eaux_prop\", hour=\"13h\", distinct_if_len=True)"
   ]
  },
  {
   "cell_type": "code",
   "execution_count": 211,
   "metadata": {},
   "outputs": [
    {
     "name": "stdout",
     "output_type": "stream",
     "text": [
      "KS statistics :  0.05766871165644172\n",
      "p-value :  0.1329993862236753\n"
     ]
    },
    {
     "data": {
      "text/plain": [
       "(0.05766871165644172, 0.1329993862236753)"
      ]
     },
     "execution_count": 211,
     "metadata": {},
     "output_type": "execute_result"
    }
   ],
   "source": [
    "ks_2samp_test_key(\"P0_01O5At0_01Ar10C0_01E3Ca0_01\", \"mean_eaux_prop\", hour=\"13h\")"
   ]
  },
  {
   "cell_type": "code",
   "execution_count": 212,
   "metadata": {},
   "outputs": [
    {
     "data": {
      "text/plain": [
       "-0.12724907607831556"
      ]
     },
     "execution_count": 212,
     "metadata": {},
     "output_type": "execute_result"
    }
   ],
   "source": [
    "d_cohen_key(\"P0_01O5At0_01Ar10C0_01E3Ca0_01\", \"mean_eaux_prop\", hour=\"13h\")"
   ]
  },
  {
   "cell_type": "code",
   "execution_count": 213,
   "metadata": {},
   "outputs": [
    {
     "name": "stdout",
     "output_type": "stream",
     "text": [
      "IF eaux :  [0.   0.   0.07]\n",
      "LEN eaux :  [0.   0.   0.06]\n",
      "It avec eaux (%) : 38.40490797546012\n",
      "IF eaux sample :  [0.05 0.12 0.28]\n",
      "LEN eaux sample :  [0.05 0.08 0.21]\n",
      "Gain quantiles :  [ 0.    0.   41.18]\n",
      "Gain mean :  1313158.3514696485\n"
     ]
    }
   ],
   "source": [
    "gain_eaux_sample_ar10_ombre5_eau3 = gain_water_key(\"P0_01O5At0_01Ar10C0_01E3Ca0_01\", hour=\"13h\")"
   ]
  },
  {
   "cell_type": "code",
   "execution_count": 215,
   "metadata": {},
   "outputs": [
    {
     "name": "stdout",
     "output_type": "stream",
     "text": [
      "Gain quantiles :  [0. 0. 0.]\n",
      "Gain mean :  504315.7841226994\n",
      "[ 0.    35.728]\n"
     ]
    }
   ],
   "source": [
    "gain_eaux_ar10_ombre5_eau3 = gain_compare_key(\"P0_01O5At0_01Ar10C0_01E3Ca0_01\", \"mean_eaux_prop\", hour=\"13h\")\n",
    "print(np.quantile(gain_eaux_ar10_ombre5_eau3, q=[0.85,0.9]))"
   ]
  },
  {
   "cell_type": "code",
   "execution_count": 216,
   "metadata": {},
   "outputs": [
    {
     "name": "stdout",
     "output_type": "stream",
     "text": [
      "Gain quantiles :  [ 0.    25.    77.525]\n",
      "Gain mean :  60.20434355828221\n"
     ]
    }
   ],
   "source": [
    "gain_arbre_ar10_ombre5_eau3 = gain_compare_key(\"P0_01O5At0_01Ar10C0_01E3Ca0_01\", \"mean_arbres_prop\", hour=\"13h\")"
   ]
  },
  {
   "cell_type": "code",
   "execution_count": 217,
   "metadata": {},
   "outputs": [
    {
     "name": "stdout",
     "output_type": "stream",
     "text": [
      "Gain quantiles :  [ 0.  0. 40.]\n",
      "Gain mean :  61384.844453987724\n"
     ]
    }
   ],
   "source": [
    "gain_ombre_ar10_ombre5_eau3 = gain_compare_key(\"P0_01O5At0_01Ar10C0_01E3Ca0_01\", \"mean_ombres_13_prop\", hour=\"13h\")"
   ]
  }
 ],
 "metadata": {
  "kernelspec": {
   "display_name": "itineraire_fraicheur",
   "language": "python",
   "name": "python3"
  },
  "language_info": {
   "codemirror_mode": {
    "name": "ipython",
    "version": 3
   },
   "file_extension": ".py",
   "mimetype": "text/x-python",
   "name": "python",
   "nbconvert_exporter": "python",
   "pygments_lexer": "ipython3",
   "version": "3.10.8"
  },
  "orig_nbformat": 4
 },
 "nbformat": 4,
 "nbformat_minor": 2
}
