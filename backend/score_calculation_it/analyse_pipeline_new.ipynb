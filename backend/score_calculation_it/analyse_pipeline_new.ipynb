{
 "cells": [
  {
   "cell_type": "code",
   "execution_count": 1,
   "metadata": {},
   "outputs": [],
   "source": [
    "import os\n",
    "os.environ['USE_PYGEOS'] = '0'\n",
    "import geopandas as gpd\n",
    "import random\n",
    "import pandas as pd\n",
    "import multiprocessing as mp\n",
    "import numpy as np\n",
    "import osmnx as ox\n",
    "import json\n",
    "import networkx as nx\n",
    "import pickle\n",
    "from data_utils import *\n",
    "import matplotlib\n",
    "\n",
    "from scipy.stats import pearsonr, gamma, kstest, ks_2samp, wilcoxon\n",
    "from scipy.stats import ttest_rel, ttest_ind\n",
    "from scipy.stats import friedmanchisquare\n",
    "from scipy.stats import shapiro\n",
    "import matplotlib.pyplot as plt\n",
    "import seaborn as sns\n",
    "from acp import *"
   ]
  },
  {
   "cell_type": "code",
   "execution_count": 86,
   "metadata": {},
   "outputs": [],
   "source": [
    "def len_if_group(all_it_path):\n",
    "    all_it = pd.read_csv(all_it_path)\n",
    "\n",
    "    it_if = all_it[all_it[\"type\"] == \"IF\"]\n",
    "    it_len = all_it[all_it[\"type\"] == \"LEN\"]\n",
    "    \n",
    "    return it_if, it_len\n",
    "\n",
    "def ks_2samp_test(group1, group2, alternative):\n",
    "    KS, p_value = ks_2samp(group1, group2, alternative=alternative)\n",
    "    print(\"KS statistics : \", KS)\n",
    "    print(\"p-value : \", p_value)\n",
    "    return KS, p_value\n",
    "\n",
    "def test_students(group1, group2, alternative=\"two-sided\"):\n",
    "    \"\"\"In order to compare the mean between the distribution of group 1 and group 2\"\"\"\n",
    "    return ttest_rel(group1, group2, alternative=alternative)\n",
    "\n",
    "def d_cohen(group1, group2):\n",
    "    \"\"\"In order to know if there is a size effect\"\"\"\n",
    "    mean1 = np.mean(group1)\n",
    "    mean2 = np.mean(group2)\n",
    "\n",
    "    var1 = np.var(group1, ddof=1)\n",
    "    var2 = np.var(group2, ddof=2)\n",
    "    \n",
    "    n1 = len(group1)\n",
    "    n2 = len(group2)\n",
    "\n",
    "    pooled_std = np.sqrt(((n1 - 1) * var1 + (n2 - 1) * var2) / (n1 + n2 - 2))\n",
    "\n",
    "    return (mean1 - mean2) / pooled_std\n",
    "\n",
    "def distance_cost(group1, group2):\n",
    "    \"\"\"Calculate the distance cost between itineraries\"\"\"\n",
    "    d1 = np.array(group1[\"total_length\"])\n",
    "    d2 = np.array(group2[\"total_length\"])\n",
    "\n",
    "    percent_diff = ((d2-d1)/d1)*100\n",
    "\n",
    "    return round(np.mean(percent_diff),2)\n",
    "\n",
    "def select_most_frequent_index(frequency_data, quantile):\n",
    "    limit_count = frequency_data[\"count\"].quantile([quantile]).iloc[0]\n",
    "    most_frequent = frequency_data[frequency_data[\"count\"] >= limit_count]\n",
    "    \n",
    "    percent = (len(most_frequent)/len(frequency_data))*100\n",
    "    \n",
    "    print(f\"percent most frequent :\", percent)\n",
    "    \n",
    "    indexes_most_frequent = most_frequent.index.to_list()\n",
    "    \n",
    "    return indexes_most_frequent\n",
    "\n",
    "def plot_data(data, name, max_y_value):\n",
    "    # Calculate the common x-axis limits\n",
    "    min_value = data.min()\n",
    "    max_value = data.max()\n",
    "\n",
    "    #Calculate the common y-axis limits\n",
    "    min_y_value = 0\n",
    "    max_y_value = max_y_value\n",
    "\n",
    "    fig1 = plt.figure(figsize=(8, 6))\n",
    "    plt.hist(data, bins=20, alpha=0.5, color=\"green\")\n",
    "    plt.xlabel(f\"{name}\")\n",
    "    plt.ylabel(\"Frequency\")\n",
    "    plt.title(f\"Histogram - {name}\")\n",
    "    plt.grid(True)\n",
    "    plt.xlim(min_value, max_value)\n",
    "    plt.ylim(min_y_value, max_y_value)\n",
    "\n",
    "    mean = np.mean(data)\n",
    "    var = np.var(data)\n",
    "    std = np.std(data)\n",
    "    quartiles = np.percentile(data, [25, 50, 75])\n",
    "    sample_size = len(data)\n",
    "\n",
    "    plt.axvline(mean, color='black', linestyle='dashed', linewidth=1)\n",
    "    plt.axvline(quartiles[0], color='red', linestyle='dashed', linewidth=1)\n",
    "    plt.axvline(quartiles[1], color='red', linestyle='solid', linewidth=1)\n",
    "    plt.axvline(quartiles[2], color='red', linestyle='dashed', linewidth=1)\n",
    "\n",
    "    plt.text(0.95, 0.95, f\"Mean: {mean:.2f}\\nVariance: {var:.2f}\\nStd Deviation: {std:.2f}\\n\"\n",
    "                         f\"Q1: {quartiles[0]:.2f}\\nQ2: {quartiles[1]:.2f}\\nQ3: {quartiles[2]:.2f}\\n\"\n",
    "                         f\"Sample Size : {sample_size}\",\n",
    "             verticalalignment=\"top\", horizontalalignment=\"right\", transform=plt.gca().transAxes)\n",
    "\n",
    "    plt.show()\n",
    "\n",
    "\n",
    "def convert_score_on_ten(x, max):\n",
    "    return (10/max)*x\n",
    "\n",
    "def plot_distribution_by_category(dataframe, target_column, category_column, category_colors=None):\n",
    "    \"\"\"\n",
    "    Plot the distribution of a target column colored by a category column.\n",
    "    \n",
    "    Parameters:\n",
    "        dataframe (pd.DataFrame): The DataFrame containing the data.\n",
    "        target_column (str): The column whose distribution will be plotted.\n",
    "        category_column (str): The column used for coloring the distribution.\n",
    "        category_colors (dict, optional): A dictionary specifying the colors for each category. \n",
    "                                          If not provided, default colors will be used.\n",
    "    \"\"\"\n",
    "    if category_colors is None:\n",
    "        category_colors = {}  # Default colors if not provided\n",
    "        unique_categories = dataframe[category_column].unique()\n",
    "        default_colors = plt.cm.tab10.colors\n",
    "        for i, cat in enumerate(unique_categories):\n",
    "            category_colors[cat] = default_colors[i % len(default_colors)]\n",
    "\n",
    "    # Extract data for plotting\n",
    "    data_to_plot = dataframe[[target_column, category_column]]\n",
    "\n",
    "    # Create a figure with two subplots\n",
    "    fig, (ax1, ax2) = plt.subplots(1, 2, figsize=(15, 6))\n",
    "\n",
    "    # Plot the histograms colored by category\n",
    "    for cat, group in data_to_plot.groupby(category_column):\n",
    "        ax1.hist(group[target_column], bins=10, alpha=0.6, color=category_colors[cat], label=cat)\n",
    "        ax2.hist(group[target_column], bins=10, alpha=0.6, color=category_colors[cat], label=cat)\n",
    "\n",
    "    # Calculate and display descriptive statistics\n",
    "    descriptive_stats = dataframe.groupby(category_column)[target_column].describe()\n",
    "    for cat in descriptive_stats.index:\n",
    "        mean = descriptive_stats.loc[cat, 'mean']\n",
    "        variance = descriptive_stats.loc[cat, 'std'] ** 2\n",
    "        q25 = descriptive_stats.loc[cat, '25%']\n",
    "        q50 = descriptive_stats.loc[cat, '50%']\n",
    "        q75 = descriptive_stats.loc[cat, '75%']\n",
    "        ax2.axvline(mean, color=category_colors[cat], linestyle='dashed', linewidth=1)\n",
    "        ax2.axvline(q25, color=category_colors[cat], linestyle='dotted', linewidth=1)\n",
    "        ax2.axvline(q50, color=category_colors[cat], linestyle='dotted', linewidth=1)\n",
    "        ax2.axvline(q75, color=category_colors[cat], linestyle='dotted', linewidth=1)\n",
    "\n",
    "    # Set plot properties\n",
    "    ax1.set_xlabel(target_column)\n",
    "    ax1.set_ylabel('Frequency')\n",
    "    ax1.set_title(f'Distribution of {target_column} by {category_column}')\n",
    "    ax1.legend()\n",
    "\n",
    "    ax2.set_xlabel(target_column)\n",
    "    ax2.set_title('Descriptive Statistics')\n",
    "    ax2.grid(True)\n",
    "\n",
    "    # Add a legend for descriptive statistics\n",
    "    legend_elements = [plt.Line2D([0], [0], color=category_colors[cat], lw=1, label=cat) for cat in descriptive_stats.index]\n",
    "    ax2.legend(handles=legend_elements, title=category_column)\n",
    "\n",
    "    plt.tight_layout()\n",
    "    plt.show()\n",
    "\n",
    "    def sns_plot(data, variable):\n",
    "        sns.set(rc={'axes.facecolor':'#f4f2f2', 'figure.facecolor':'#f4f2f2'})\n",
    "        colour_palette = {\"IF\": \"blue\", \"LEN\": \"red\"}\n",
    "        legend = {\"IF\": \"Frais\", \"LEN\": \"Courts\"}\n",
    "        sns.displot(data, x=variable, kind=\"kde\", hue=\"type\", fill=True, legend=False, palette=colour_palette)\n",
    "\n",
    "        plt.ylabel(\"Densité\")\n",
    "        plt.xlabel(\"\")\n",
    "\n",
    "        plt.legend(title=\"Types d'itinéraires\", labels=legend.values())\n",
    "        plt.show()\n",
    "\n",
    "def sns_plot(data, variable):\n",
    "    sns.set(rc={'axes.facecolor':'#f4f2f2', 'figure.facecolor':'#f4f2f2'})\n",
    "    colour_palette = {\"IF\": \"blue\", \"LEN\": \"red\"}\n",
    "    legend = {\"IF\": \"Frais\", \"LEN\": \"Courts\"}\n",
    "    sns.displot(data, x=variable, kind=\"kde\", hue=\"type\", fill=True, legend=False, palette=colour_palette)\n",
    "\n",
    "    plt.ylabel(\"Densité\")\n",
    "    plt.xlabel(\"\")\n",
    "\n",
    "    plt.legend(title=\"Types d'itinéraires\", labels=legend.values())\n",
    "    plt.show()\n",
    "\n",
    "def basic_stats(data):\n",
    "    return pd.DataFrame({\n",
    "        \"mean\": np.mean(data),\n",
    "        \"var\": np.var(data),\n",
    "        \"quantiles\": np.quantile(data, q=[0.25,0.5,0.75])\n",
    "    })\n",
    "\n",
    "def basic_stats_key(key, column, hour=False, distinct_if_len=False):\n",
    "    path = \"\"\n",
    "    if(hour):\n",
    "        path = f\"./output_data/analyse/{key}/{hour}/mean_value_by_it{key}.csv\"\n",
    "    else:\n",
    "        path = f\"./output_data/analyse/{key}/mean_value_by_it{key}.csv\"\n",
    "    dataset = pd.read_csv(path)\n",
    "    if(distinct_if_len):\n",
    "        it_if = dataset[dataset[\"type\"] == \"IF\"]\n",
    "        it_len = dataset[dataset[\"type\"] == \"LEN\"]\n",
    "\n",
    "        return{\n",
    "            \"IF\": basic_stats(it_if[column]),\n",
    "            \"LEN\": basic_stats(it_len[column])\n",
    "        }\n",
    "    else:\n",
    "        return(basic_stats(dataset[column]))\n",
    "    \n",
    "def basic_stats_temp_key(key, column, scaler, hour=False, distinct_if_len=False):\n",
    "    path = \"\"\n",
    "    if(hour):\n",
    "        path = f\"./output_data/analyse/{key}/{hour}/mean_value_by_it{key}.csv\"\n",
    "    else:\n",
    "        path = f\"./output_data/analyse/{key}/mean_value_by_it{key}.csv\"\n",
    "    dataset = pd.read_csv(path)\n",
    "\n",
    "    dataset[\"real_temp\"] = scaler.inverse_transform(dataset[[column]])\n",
    "\n",
    "    # print(dataset[\"real_temp\"])\n",
    "    sns_plot(dataset, \"real_temp\")\n",
    "\n",
    "    if(distinct_if_len):\n",
    "        it_if = dataset[dataset[\"type\"] == \"IF\"]\n",
    "        it_len = dataset[dataset[\"type\"] == \"LEN\"]\n",
    "\n",
    "        return{\n",
    "            \"IF\": basic_stats(it_if[\"real_temp\"]),\n",
    "            \"LEN\": basic_stats(it_len[\"real_temp\"])\n",
    "        }\n",
    "    else:\n",
    "        return(basic_stats(dataset[column]))\n",
    "\n",
    "def compare_gain(it_if, it_len, printed=True, q=[0.25,0.5,0.75]):\n",
    "    all_percent_diff = []\n",
    "    for i, l in zip(it_if, it_len):\n",
    "        percent = round(((i - l)/(l+0.000001))*100, 2)\n",
    "        all_percent_diff.append(percent)\n",
    "    \n",
    "    if(printed):\n",
    "        print(\"Gain quantiles : \", np.quantile(all_percent_diff, q=q))\n",
    "        print(\"Gain mean : \", np.mean(all_percent_diff))\n",
    "    return all_percent_diff\n",
    "\n",
    "def print_quantiles_to_compare(key1, key2, column):\n",
    "    dataset_1 = pd.read_csv(f\"./output_data/analyse/{key1}/13h/mean_value_by_it{key1}.csv\")\n",
    "    if_it_1 = dataset_1[dataset_1[\"type\"] == \"IF\"]\n",
    "\n",
    "    dataset_2 = pd.read_csv(f\"./output_data/analyse/{key2}/13h/mean_value_by_it{key2}.csv\")\n",
    "    if_it_2 = dataset_2[dataset_2[\"type\"] == \"IF\"]\n",
    "\n",
    "    print(f\"{column}; {key1}\", basic_stats(if_it_1[column]))\n",
    "    print(f\"{column}; {key2}\", basic_stats(if_it_2[column]))\n",
    "\n",
    "# def print_quantiles_to_compare_spec(key1, column):\n",
    "#     dataset_1 = pd.read_csv(f\"./output_data/analyse/{key1}/13h/mean_value_by_it{key1}.csv\")\n",
    "#     if_it_1 = dataset_1[dataset_1[\"type\"] == \"IF\"]\n",
    "\n",
    "#     print(f\"{column}; {key1}\", basic_stats(if_it_1[column]))\n",
    "#     print(f\"{column}; arbres : \", basic_stats(arbres_if))\n",
    "\n",
    "def gain_compare_key(key, column, hour=False):\n",
    "    path = \"\"\n",
    "    if(hour):\n",
    "        path = f\"./output_data/analyse/{key}/{hour}/mean_value_by_it{key}.csv\"\n",
    "    else:\n",
    "        path = f\"./output_data/analyse/{key}/mean_value_by_it{key}.csv\"\n",
    "    dataset = pd.read_csv(path)\n",
    "    # print(dataset.columns)\n",
    "    if_it = dataset[dataset[\"type\"] == \"IF\"]\n",
    "    if_len = dataset[dataset[\"type\"] == \"LEN\"]\n",
    "\n",
    "    all_percent_diff = compare_gain(if_it[column], if_len[column])\n",
    "\n",
    "    return all_percent_diff"
   ]
  },
  {
   "attachments": {},
   "cell_type": "markdown",
   "metadata": {},
   "source": [
    "## Prise en compte de la variable ombre\n",
    "\n",
    "### Analyse des gains"
   ]
  },
  {
   "attachments": {},
   "cell_type": "markdown",
   "metadata": {},
   "source": [
    "Gain en ombre avec la pondération initiale en arbres"
   ]
  },
  {
   "cell_type": "code",
   "execution_count": 20,
   "metadata": {},
   "outputs": [
    {
     "name": "stdout",
     "output_type": "stream",
     "text": [
      "Gain quantiles :  [-33.33   0.     6.67]\n",
      "Gain mean :  62580.23258895706\n"
     ]
    }
   ],
   "source": [
    "gain_ombres_ar10 = gain_compare_key(\"P0_01O0_01At0_01Ar10C0_01E0_01Ca0_01\", \"mean_ombres_13_prop\", hour=False)"
   ]
  },
  {
   "cell_type": "code",
   "execution_count": 18,
   "metadata": {},
   "outputs": [
    {
     "name": "stdout",
     "output_type": "stream",
     "text": [
      "POID OMBRE :  9\n",
      "Arbres\n",
      "Gain quantiles :  [ 0.   18.52 61.11]\n",
      "Gain mean :  51.66840490797546\n",
      "Ombres\n",
      "Gain quantiles :  [ 0.   8.2 75. ]\n",
      "Gain mean :  73681.39646625768\n",
      "POID OMBRE :  7\n",
      "Arbres\n",
      "Gain quantiles :  [ 0.    23.26  74.455]\n",
      "Gain mean :  59.9123190184049\n",
      "Ombres\n",
      "Gain quantiles :  [ 0.     0.    61.505]\n",
      "Gain mean :  72445.8133006135\n",
      "POID OMBRE :  5\n",
      "Arbres\n",
      "Gain quantiles :  [ 0.   31.25 91.67]\n",
      "Gain mean :  67.01235582822086\n",
      "Ombres\n",
      "Gain quantiles :  [ 0.  0. 50.]\n",
      "Gain mean :  69980.03887116564\n",
      "POID OMBRE :  3\n",
      "Arbres\n",
      "Gain quantiles :  [  6.06   40.    107.845]\n",
      "Gain mean :  81.19828220858896\n",
      "Ombres\n",
      "Gain quantiles :  [-10.725   0.     32.945]\n",
      "Gain mean :  67513.94217177914\n",
      "POID OMBRE :  1\n",
      "Arbres\n",
      "Gain quantiles :  [ 12.97  57.14 130.  ]\n",
      "Gain mean :  98.74968098159508\n",
      "Ombres\n",
      "Gain quantiles :  [-25.     0.    14.29]\n",
      "Gain mean :  73638.93857668713\n"
     ]
    }
   ],
   "source": [
    "for w in range(9,0, -2):\n",
    "    print(\"POID OMBRE : \", w)\n",
    "    print(\"Arbres\")\n",
    "    gain__arbres = gain_compare_key(f\"P0_01O{w}At0_01Ar10C0_01E0_01Ca0_01\", \"mean_arbres_prop\")\n",
    "    print(\"Ombres\")\n",
    "    gain__ombres = gain_compare_key(f\"P0_01O{w}At0_01Ar10C0_01E0_01Ca0_01\", \"mean_ombres_13_prop\")"
   ]
  },
  {
   "cell_type": "code",
   "execution_count": 31,
   "metadata": {},
   "outputs": [
    {
     "data": {
      "text/plain": [
       "{'IF':        mean       var  quantiles\n",
       " 0  0.179975  0.034315       0.06\n",
       " 1  0.179975  0.034315       0.12\n",
       " 2  0.179975  0.034315       0.21,\n",
       " 'LEN':        mean       var  quantiles\n",
       " 0  0.086221  0.008556       0.03\n",
       " 1  0.086221  0.008556       0.06\n",
       " 2  0.086221  0.008556       0.11}"
      ]
     },
     "execution_count": 31,
     "metadata": {},
     "output_type": "execute_result"
    }
   ],
   "source": [
    "basic_stats_key(\"P0_01O10At0_01Ar0_01C0_01E0_01Ca0_01\", \"mean_ombres_13_prop\", hour=\"13h\", distinct_if_len=True)"
   ]
  },
  {
   "cell_type": "code",
   "execution_count": 32,
   "metadata": {},
   "outputs": [
    {
     "data": {
      "text/plain": [
       "{'IF':        mean       var  quantiles\n",
       " 0  0.102147  0.011456       0.03\n",
       " 1  0.102147  0.011456       0.07\n",
       " 2  0.102147  0.011456       0.12,\n",
       " 'LEN':        mean       var  quantiles\n",
       " 0  0.086221  0.008556       0.03\n",
       " 1  0.086221  0.008556       0.06\n",
       " 2  0.086221  0.008556       0.11}"
      ]
     },
     "execution_count": 32,
     "metadata": {},
     "output_type": "execute_result"
    }
   ],
   "source": [
    "basic_stats_key(\"P0_01O5At0_01Ar10C0_01E0_01Ca0_01\", \"mean_ombres_13_prop\", hour=False, distinct_if_len=True)"
   ]
  },
  {
   "cell_type": "code",
   "execution_count": 33,
   "metadata": {},
   "outputs": [
    {
     "data": {
      "text/plain": [
       "{'IF':        mean       var  quantiles\n",
       " 0  0.091546  0.009047       0.03\n",
       " 1  0.091546  0.009047       0.06\n",
       " 2  0.091546  0.009047       0.11,\n",
       " 'LEN':        mean       var  quantiles\n",
       " 0  0.086221  0.008556       0.03\n",
       " 1  0.086221  0.008556       0.06\n",
       " 2  0.086221  0.008556       0.11}"
      ]
     },
     "execution_count": 33,
     "metadata": {},
     "output_type": "execute_result"
    }
   ],
   "source": [
    "basic_stats_key(\"P0_01O3At0_01Ar10C0_01E0_01Ca0_01\", \"mean_ombres_13_prop\", hour=False, distinct_if_len=True)"
   ]
  },
  {
   "cell_type": "code",
   "execution_count": 34,
   "metadata": {},
   "outputs": [
    {
     "data": {
      "text/plain": [
       "{'IF':       mean       var  quantiles\n",
       " 0  0.32811  0.030696       0.20\n",
       " 1  0.32811  0.030696       0.30\n",
       " 2  0.32811  0.030696       0.44,\n",
       " 'LEN':        mean       var  quantiles\n",
       " 0  0.220245  0.014915       0.13\n",
       " 1  0.220245  0.014915       0.20\n",
       " 2  0.220245  0.014915       0.29}"
      ]
     },
     "execution_count": 34,
     "metadata": {},
     "output_type": "execute_result"
    }
   ],
   "source": [
    "basic_stats_key(\"P0_01O5At0_01Ar10C0_01E0_01Ca0_01\", \"mean_arbres_prop\", hour=False, distinct_if_len=True)"
   ]
  },
  {
   "cell_type": "code",
   "execution_count": 35,
   "metadata": {},
   "outputs": [
    {
     "data": {
      "text/plain": [
       "{'IF':        mean       var  quantiles\n",
       " 0  0.347939  0.033487       0.21\n",
       " 1  0.347939  0.033487       0.32\n",
       " 2  0.347939  0.033487       0.46,\n",
       " 'LEN':        mean       var  quantiles\n",
       " 0  0.220245  0.014915       0.13\n",
       " 1  0.220245  0.014915       0.20\n",
       " 2  0.220245  0.014915       0.29}"
      ]
     },
     "execution_count": 35,
     "metadata": {},
     "output_type": "execute_result"
    }
   ],
   "source": [
    "basic_stats_key(\"P0_01O3At0_01Ar10C0_01E0_01Ca0_01\", \"mean_arbres_prop\", hour=False, distinct_if_len=True)"
   ]
  },
  {
   "cell_type": "code",
   "execution_count": 36,
   "metadata": {},
   "outputs": [
    {
     "data": {
      "text/plain": [
       "{'IF':        mean       var  quantiles\n",
       " 0  0.398025  0.038378       0.25\n",
       " 1  0.398025  0.038378       0.37\n",
       " 2  0.398025  0.038378       0.54,\n",
       " 'LEN':        mean       var  quantiles\n",
       " 0  0.220245  0.014915       0.13\n",
       " 1  0.220245  0.014915       0.20\n",
       " 2  0.220245  0.014915       0.29}"
      ]
     },
     "execution_count": 36,
     "metadata": {},
     "output_type": "execute_result"
    }
   ],
   "source": [
    "basic_stats_key(\"P0_01O0_01At0_01Ar10C0_01E0_01Ca0_01\", \"mean_arbres_prop\", hour=False, distinct_if_len=True)"
   ]
  },
  {
   "attachments": {},
   "cell_type": "markdown",
   "metadata": {},
   "source": [
    "## Prise en compte de la température\n",
    "\n",
    "Pour la température, les données ont été normalisées et standardisées entre 0 et 1 afin que la pondération ait un sens, cependant, pour l'analyse, nous observons la vrai valeur de température afin de donner plus de sens."
   ]
  },
  {
   "cell_type": "code",
   "execution_count": 62,
   "metadata": {},
   "outputs": [],
   "source": [
    "from sklearn.preprocessing import MinMaxScaler"
   ]
  },
  {
   "cell_type": "code",
   "execution_count": 38,
   "metadata": {},
   "outputs": [],
   "source": [
    "temp_edges_path = \"./output_data/network/edges/edges_buffered_temp_wavg_bounding_no_na.gpkg\""
   ]
  },
  {
   "cell_type": "code",
   "execution_count": 44,
   "metadata": {},
   "outputs": [],
   "source": [
    "def calculate_mean_prop(it, score_column):\n",
    "    \"\"\"Calculate the mean proportion of one column for a given itinerary\"\"\"\n",
    "    # print(score_column)\n",
    "    # print(it[score_column])\n",
    "    return round(sum(it[score_column]*it[\"length\"])/sum(it[\"length\"]), 2)\n",
    "\n",
    "def get_real_temperature(key, temp_edges_path, hour=\"13h\"):\n",
    "    \"\"\"Get the real temperature for the edges of one dataset through all edges prop file\"\"\"\n",
    "    # edges_it = gpd.read_file(f\"./output_data/analyse/{key}/{hour}/dataset_{key}.gpkg\")\n",
    "    edges_it = gpd.read_file(\"./output_data/analyse/P0_01O0_01At0_01Ar0_01C10E0_01Ca0_01/13h/dataset_P0_01O0_01At0_01Ar0_01C10E0_01Ca0_01.gpkg\")\n",
    "    print(\"edges_it ok\")\n",
    "    all_edges_prop = gpd.read_file(temp_edges_path)\n",
    "    print(\"temp edges ok\")\n",
    "\n",
    "    edges_it = edges_it.set_index([\"uniqId\"])\n",
    "    all_edges_prop = all_edges_prop.set_index([\"uniqId\"])\n",
    "\n",
    "    all_edges_prop_sample = all_edges_prop.loc[edges_it.index.to_list()]\n",
    "\n",
    "    edges_it[\"C\"] =  all_edges_prop_sample[\"C\"]\n",
    "\n",
    "    return edges_it\n"
   ]
  },
  {
   "cell_type": "code",
   "execution_count": 48,
   "metadata": {},
   "outputs": [],
   "source": [
    "temp_edges = gpd.read_file(\"./output_data/network/edges/edges_buffered_temp_wavg_bounding_no_na.gpkg\")"
   ]
  },
  {
   "cell_type": "code",
   "execution_count": 64,
   "metadata": {},
   "outputs": [
    {
     "data": {
      "text/html": [
       "<style>#sk-container-id-1 {color: black;background-color: white;}#sk-container-id-1 pre{padding: 0;}#sk-container-id-1 div.sk-toggleable {background-color: white;}#sk-container-id-1 label.sk-toggleable__label {cursor: pointer;display: block;width: 100%;margin-bottom: 0;padding: 0.3em;box-sizing: border-box;text-align: center;}#sk-container-id-1 label.sk-toggleable__label-arrow:before {content: \"▸\";float: left;margin-right: 0.25em;color: #696969;}#sk-container-id-1 label.sk-toggleable__label-arrow:hover:before {color: black;}#sk-container-id-1 div.sk-estimator:hover label.sk-toggleable__label-arrow:before {color: black;}#sk-container-id-1 div.sk-toggleable__content {max-height: 0;max-width: 0;overflow: hidden;text-align: left;background-color: #f0f8ff;}#sk-container-id-1 div.sk-toggleable__content pre {margin: 0.2em;color: black;border-radius: 0.25em;background-color: #f0f8ff;}#sk-container-id-1 input.sk-toggleable__control:checked~div.sk-toggleable__content {max-height: 200px;max-width: 100%;overflow: auto;}#sk-container-id-1 input.sk-toggleable__control:checked~label.sk-toggleable__label-arrow:before {content: \"▾\";}#sk-container-id-1 div.sk-estimator input.sk-toggleable__control:checked~label.sk-toggleable__label {background-color: #d4ebff;}#sk-container-id-1 div.sk-label input.sk-toggleable__control:checked~label.sk-toggleable__label {background-color: #d4ebff;}#sk-container-id-1 input.sk-hidden--visually {border: 0;clip: rect(1px 1px 1px 1px);clip: rect(1px, 1px, 1px, 1px);height: 1px;margin: -1px;overflow: hidden;padding: 0;position: absolute;width: 1px;}#sk-container-id-1 div.sk-estimator {font-family: monospace;background-color: #f0f8ff;border: 1px dotted black;border-radius: 0.25em;box-sizing: border-box;margin-bottom: 0.5em;}#sk-container-id-1 div.sk-estimator:hover {background-color: #d4ebff;}#sk-container-id-1 div.sk-parallel-item::after {content: \"\";width: 100%;border-bottom: 1px solid gray;flex-grow: 1;}#sk-container-id-1 div.sk-label:hover label.sk-toggleable__label {background-color: #d4ebff;}#sk-container-id-1 div.sk-serial::before {content: \"\";position: absolute;border-left: 1px solid gray;box-sizing: border-box;top: 0;bottom: 0;left: 50%;z-index: 0;}#sk-container-id-1 div.sk-serial {display: flex;flex-direction: column;align-items: center;background-color: white;padding-right: 0.2em;padding-left: 0.2em;position: relative;}#sk-container-id-1 div.sk-item {position: relative;z-index: 1;}#sk-container-id-1 div.sk-parallel {display: flex;align-items: stretch;justify-content: center;background-color: white;position: relative;}#sk-container-id-1 div.sk-item::before, #sk-container-id-1 div.sk-parallel-item::before {content: \"\";position: absolute;border-left: 1px solid gray;box-sizing: border-box;top: 0;bottom: 0;left: 50%;z-index: -1;}#sk-container-id-1 div.sk-parallel-item {display: flex;flex-direction: column;z-index: 1;position: relative;background-color: white;}#sk-container-id-1 div.sk-parallel-item:first-child::after {align-self: flex-end;width: 50%;}#sk-container-id-1 div.sk-parallel-item:last-child::after {align-self: flex-start;width: 50%;}#sk-container-id-1 div.sk-parallel-item:only-child::after {width: 0;}#sk-container-id-1 div.sk-dashed-wrapped {border: 1px dashed gray;margin: 0 0.4em 0.5em 0.4em;box-sizing: border-box;padding-bottom: 0.4em;background-color: white;}#sk-container-id-1 div.sk-label label {font-family: monospace;font-weight: bold;display: inline-block;line-height: 1.2em;}#sk-container-id-1 div.sk-label-container {text-align: center;}#sk-container-id-1 div.sk-container {/* jupyter's `normalize.less` sets `[hidden] { display: none; }` but bootstrap.min.css set `[hidden] { display: none !important; }` so we also need the `!important` here to be able to override the default hidden behavior on the sphinx rendered scikit-learn.org. See: https://github.com/scikit-learn/scikit-learn/issues/21755 */display: inline-block !important;position: relative;}#sk-container-id-1 div.sk-text-repr-fallback {display: none;}</style><div id=\"sk-container-id-1\" class=\"sk-top-container\"><div class=\"sk-text-repr-fallback\"><pre>MinMaxScaler()</pre><b>In a Jupyter environment, please rerun this cell to show the HTML representation or trust the notebook. <br />On GitHub, the HTML representation is unable to render, please try loading this page with nbviewer.org.</b></div><div class=\"sk-container\" hidden><div class=\"sk-item\"><div class=\"sk-estimator sk-toggleable\"><input class=\"sk-toggleable__control sk-hidden--visually\" id=\"sk-estimator-id-1\" type=\"checkbox\" checked><label for=\"sk-estimator-id-1\" class=\"sk-toggleable__label sk-toggleable__label-arrow\">MinMaxScaler</label><div class=\"sk-toggleable__content\"><pre>MinMaxScaler()</pre></div></div></div></div></div>"
      ],
      "text/plain": [
       "MinMaxScaler()"
      ]
     },
     "execution_count": 64,
     "metadata": {},
     "output_type": "execute_result"
    }
   ],
   "source": [
    "temp_scaler = MinMaxScaler(feature_range=(0, 1))\n",
    "temp_scaler.fit(temp_edges[[\"C_wavg\"]])\n"
   ]
  },
  {
   "cell_type": "code",
   "execution_count": 87,
   "metadata": {},
   "outputs": [
    {
     "data": {
      "image/png": "[encoded data removed]",
      "text/plain": [
       "<Figure size 500x500 with 1 Axes>"
      ]
     },
     "metadata": {},
     "output_type": "display_data"
    },
    {
     "data": {
      "text/plain": [
       "{'IF':         mean       var  quantiles\n",
       " 0  34.175656  2.058617      33.30\n",
       " 1  34.175656  2.058617      34.32\n",
       " 2  34.175656  2.058617      35.34,\n",
       " 'LEN':         mean       var  quantiles\n",
       " 0  34.437018  1.619423      33.64\n",
       " 1  34.437018  1.619423      34.66\n",
       " 2  34.437018  1.619423      35.51}"
      ]
     },
     "execution_count": 87,
     "metadata": {},
     "output_type": "execute_result"
    }
   ],
   "source": [
    "basic_stats_temp_key(\"P0_01O0_01At0_01Ar0_01C10E0_01Ca0_01\", \"mean_C_wavg_scaled\", temp_scaler, hour=\"13h\", distinct_if_len=True)"
   ]
  },
  {
   "cell_type": "code",
   "execution_count": 47,
   "metadata": {},
   "outputs": [
    {
     "data": {
      "text/plain": [
       "{'IF':        mean       var  quantiles\n",
       " 0  0.516209  0.005284      0.465\n",
       " 1  0.516209  0.005284      0.520\n",
       " 2  0.516209  0.005284      0.570,\n",
       " 'LEN':        mean       var  quantiles\n",
       " 0  0.496883  0.005604       0.45\n",
       " 1  0.496883  0.005604       0.51\n",
       " 2  0.496883  0.005604       0.56}"
      ]
     },
     "execution_count": 47,
     "metadata": {},
     "output_type": "execute_result"
    }
   ],
   "source": [
    "basic_stats_key(\"P0_01O0_01At0_01Ar0_01C10E0_01Ca0_01\", \"mean_C_wavg_scaled\", hour=\"13h\", distinct_if_len=True)"
   ]
  },
  {
   "cell_type": "code",
   "execution_count": 88,
   "metadata": {},
   "outputs": [
    {
     "name": "stdout",
     "output_type": "stream",
     "text": [
      "Gain quantiles :  [-3.42  0.    0.  ]\n",
      "Gain mean :  -3.2225398773006133\n"
     ]
    }
   ],
   "source": [
    "gain_temp_10 = gain_compare_key(\"P0_01O0_01At0_01Ar0_01C10E0_01Ca0_01\", \"mean_C_wavg_scaled\", hour=\"13h\")"
   ]
  }
 ],
 "metadata": {
  "kernelspec": {
   "display_name": "itineraire_fraicheur",
   "language": "python",
   "name": "python3"
  },
  "language_info": {
   "codemirror_mode": {
    "name": "ipython",
    "version": 3
   },
   "file_extension": ".py",
   "mimetype": "text/x-python",
   "name": "python",
   "nbconvert_exporter": "python",
   "pygments_lexer": "ipython3",
   "version": "3.10.8"
  },
  "orig_nbformat": 4
 },
 "nbformat": 4,
 "nbformat_minor": 2
}
